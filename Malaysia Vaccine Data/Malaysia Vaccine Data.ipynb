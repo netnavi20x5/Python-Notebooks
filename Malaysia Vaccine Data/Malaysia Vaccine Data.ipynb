{
 "cells": [
  {
   "cell_type": "markdown",
   "id": "732dac82-bb0b-4dde-9001-496d26df8ef7",
   "metadata": {},
   "source": [
    "Data Source :\"https://github.com/CITF-Malaysia/citf-public/blob/main/vaccination/vax_malaysia.csv\"\n",
    "\n",
    "https://github.com/CITF-Malaysia\n",
    "\n",
    "Source: \n",
    "Official Github account of the National Covid-19 Immunisation Program (PICK) in Malaysia. \n",
    "Powered by MySejahtera.\n",
    "\n",
    "Malaysia https://www.vaksincovid.gov.my/ @JKJAVMY Joined 24 days ago\n"
   ]
  },
  {
   "cell_type": "code",
   "execution_count": 2,
   "id": "684dcab1-707c-46cc-81d2-d046fe1fa5f7",
   "metadata": {},
   "outputs": [],
   "source": [
    "import pandas as pd\n",
    "import seaborn as sb"
   ]
  },
  {
   "cell_type": "code",
   "execution_count": 5,
   "id": "e339e9aa-df5c-474e-a341-1218ed2ea3a6",
   "metadata": {},
   "outputs": [],
   "source": [
    "df =pd.read_csv(\"https://raw.githubusercontent.com/CITF-Malaysia/citf-public/main/vaccination/vax_malaysia.csv\")"
   ]
  },
  {
   "cell_type": "code",
   "execution_count": 6,
   "id": "3b6f20de-42b9-466f-9537-3607d411b5ae",
   "metadata": {},
   "outputs": [
    {
     "data": {
      "text/html": [
       "<div>\n",
       "<style scoped>\n",
       "    .dataframe tbody tr th:only-of-type {\n",
       "        vertical-align: middle;\n",
       "    }\n",
       "\n",
       "    .dataframe tbody tr th {\n",
       "        vertical-align: top;\n",
       "    }\n",
       "\n",
       "    .dataframe thead th {\n",
       "        text-align: right;\n",
       "    }\n",
       "</style>\n",
       "<table border=\"1\" class=\"dataframe\">\n",
       "  <thead>\n",
       "    <tr style=\"text-align: right;\">\n",
       "      <th></th>\n",
       "      <th>date</th>\n",
       "      <th>dose1_daily</th>\n",
       "      <th>dose2_daily</th>\n",
       "      <th>total_daily</th>\n",
       "      <th>dose1_cumul</th>\n",
       "      <th>dose2_cumul</th>\n",
       "      <th>total_cumul</th>\n",
       "    </tr>\n",
       "  </thead>\n",
       "  <tbody>\n",
       "    <tr>\n",
       "      <th>0</th>\n",
       "      <td>2021-02-24</td>\n",
       "      <td>60</td>\n",
       "      <td>0</td>\n",
       "      <td>60</td>\n",
       "      <td>60</td>\n",
       "      <td>0</td>\n",
       "      <td>60</td>\n",
       "    </tr>\n",
       "    <tr>\n",
       "      <th>1</th>\n",
       "      <td>2021-02-25</td>\n",
       "      <td>1153</td>\n",
       "      <td>0</td>\n",
       "      <td>1153</td>\n",
       "      <td>1213</td>\n",
       "      <td>0</td>\n",
       "      <td>1213</td>\n",
       "    </tr>\n",
       "    <tr>\n",
       "      <th>2</th>\n",
       "      <td>2021-02-26</td>\n",
       "      <td>4086</td>\n",
       "      <td>0</td>\n",
       "      <td>4086</td>\n",
       "      <td>5299</td>\n",
       "      <td>0</td>\n",
       "      <td>5299</td>\n",
       "    </tr>\n",
       "    <tr>\n",
       "      <th>3</th>\n",
       "      <td>2021-02-27</td>\n",
       "      <td>6712</td>\n",
       "      <td>0</td>\n",
       "      <td>6712</td>\n",
       "      <td>12011</td>\n",
       "      <td>0</td>\n",
       "      <td>12011</td>\n",
       "    </tr>\n",
       "    <tr>\n",
       "      <th>4</th>\n",
       "      <td>2021-02-28</td>\n",
       "      <td>6683</td>\n",
       "      <td>3</td>\n",
       "      <td>6686</td>\n",
       "      <td>18694</td>\n",
       "      <td>3</td>\n",
       "      <td>18697</td>\n",
       "    </tr>\n",
       "  </tbody>\n",
       "</table>\n",
       "</div>"
      ],
      "text/plain": [
       "         date  dose1_daily  dose2_daily  total_daily  dose1_cumul  \\\n",
       "0  2021-02-24           60            0           60           60   \n",
       "1  2021-02-25         1153            0         1153         1213   \n",
       "2  2021-02-26         4086            0         4086         5299   \n",
       "3  2021-02-27         6712            0         6712        12011   \n",
       "4  2021-02-28         6683            3         6686        18694   \n",
       "\n",
       "   dose2_cumul  total_cumul  \n",
       "0            0           60  \n",
       "1            0         1213  \n",
       "2            0         5299  \n",
       "3            0        12011  \n",
       "4            3        18697  "
      ]
     },
     "execution_count": 6,
     "metadata": {},
     "output_type": "execute_result"
    }
   ],
   "source": [
    "df.head()"
   ]
  },
  {
   "cell_type": "code",
   "execution_count": 10,
   "id": "46ea30e6-d56c-424d-8c67-ff0c6782103f",
   "metadata": {},
   "outputs": [
    {
     "data": {
      "text/plain": [
       "<AxesSubplot:xlabel='date', ylabel='dose2_cumul'>"
      ]
     },
     "execution_count": 10,
     "metadata": {},
     "output_type": "execute_result"
    },
    {
     "data": {
      "image/png": "[encoded data removed]",
      "text/plain": [
       "<Figure size 432x288 with 1 Axes>"
      ]
     },
     "metadata": {
      "needs_background": "light"
     },
     "output_type": "display_data"
    }
   ],
   "source": [
    "sb.lineplot(data=df, x=\"date\", y=\"dose2_cumul\")"
   ]
  }
 ],
 "metadata": {
  "kernelspec": {
   "display_name": "Python 3",
   "language": "python",
   "name": "python3"
  },
  "language_info": {
   "codemirror_mode": {
    "name": "ipython",
    "version": 3
   },
   "file_extension": ".py",
   "mimetype": "text/x-python",
   "name": "python",
   "nbconvert_exporter": "python",
   "pygments_lexer": "ipython3",
   "version": "3.9.5"
  }
 },
 "nbformat": 4,
 "nbformat_minor": 5
}
