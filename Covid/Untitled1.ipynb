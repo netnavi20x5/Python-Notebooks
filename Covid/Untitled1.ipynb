{
 "cells": [
  {
   "cell_type": "code",
   "execution_count": 2,
   "id": "a1a9e02d-565b-4e4b-abae-832d2693efe6",
   "metadata": {},
   "outputs": [],
   "source": [
    "import pandas as pd\n",
    "import requests\n",
    "from bs4 import BeautifulSoup"
   ]
  },
  {
   "cell_type": "code",
   "execution_count": 6,
   "id": "4c623ef8-b1cf-4352-aa9c-1b5abbf90e14",
   "metadata": {},
   "outputs": [],
   "source": [
    "df=pd.read_csv(\"https://raw.githubusercontent.com/ynshung/covid-19-malaysia/master/covid-19-malaysia.csv\")"
   ]
  },
  {
   "cell_type": "code",
   "execution_count": 11,
   "id": "f342e65d-6cb6-4394-aab9-b0e7dd948d59",
   "metadata": {},
   "outputs": [
    {
     "data": {
      "text/html": [
       "<div>\n",
       "<style scoped>\n",
       "    .dataframe tbody tr th:only-of-type {\n",
       "        vertical-align: middle;\n",
       "    }\n",
       "\n",
       "    .dataframe tbody tr th {\n",
       "        vertical-align: top;\n",
       "    }\n",
       "\n",
       "    .dataframe thead th {\n",
       "        text-align: right;\n",
       "    }\n",
       "</style>\n",
       "<table border=\"1\" class=\"dataframe\">\n",
       "  <thead>\n",
       "    <tr style=\"text-align: right;\">\n",
       "      <th></th>\n",
       "      <th>date</th>\n",
       "      <th>cases</th>\n",
       "      <th>discharged</th>\n",
       "      <th>death</th>\n",
       "      <th>icu</th>\n",
       "    </tr>\n",
       "  </thead>\n",
       "  <tbody>\n",
       "    <tr>\n",
       "      <th>513</th>\n",
       "      <td>20/06/2021</td>\n",
       "      <td>696408</td>\n",
       "      <td>628185</td>\n",
       "      <td>4408</td>\n",
       "      <td>880</td>\n",
       "    </tr>\n",
       "    <tr>\n",
       "      <th>514</th>\n",
       "      <td>21/06/2021</td>\n",
       "      <td>701019</td>\n",
       "      <td>633624</td>\n",
       "      <td>4477</td>\n",
       "      <td>880</td>\n",
       "    </tr>\n",
       "    <tr>\n",
       "      <th>515</th>\n",
       "      <td>22/06/2021</td>\n",
       "      <td>705762</td>\n",
       "      <td>639181</td>\n",
       "      <td>4554</td>\n",
       "      <td>875</td>\n",
       "    </tr>\n",
       "    <tr>\n",
       "      <th>516</th>\n",
       "      <td>23/06/2021</td>\n",
       "      <td>711006</td>\n",
       "      <td>645553</td>\n",
       "      <td>4637</td>\n",
       "      <td>879</td>\n",
       "    </tr>\n",
       "    <tr>\n",
       "      <th>517</th>\n",
       "      <td>24/06/2021</td>\n",
       "      <td>716847</td>\n",
       "      <td>650964</td>\n",
       "      <td>4721</td>\n",
       "      <td>869</td>\n",
       "    </tr>\n",
       "    <tr>\n",
       "      <th>518</th>\n",
       "      <td>25/06/2021</td>\n",
       "      <td>722659</td>\n",
       "      <td>657739</td>\n",
       "      <td>4803</td>\n",
       "      <td>870</td>\n",
       "    </tr>\n",
       "    <tr>\n",
       "      <th>519</th>\n",
       "      <td>26/06/2021</td>\n",
       "      <td>728462</td>\n",
       "      <td>662932</td>\n",
       "      <td>4884</td>\n",
       "      <td>866</td>\n",
       "    </tr>\n",
       "  </tbody>\n",
       "</table>\n",
       "</div>"
      ],
      "text/plain": [
       "           date   cases  discharged  death  icu\n",
       "513  20/06/2021  696408      628185   4408  880\n",
       "514  21/06/2021  701019      633624   4477  880\n",
       "515  22/06/2021  705762      639181   4554  875\n",
       "516  23/06/2021  711006      645553   4637  879\n",
       "517  24/06/2021  716847      650964   4721  869\n",
       "518  25/06/2021  722659      657739   4803  870\n",
       "519  26/06/2021  728462      662932   4884  866"
      ]
     },
     "execution_count": 11,
     "metadata": {},
     "output_type": "execute_result"
    }
   ],
   "source": [
    "df.tail(7)"
   ]
  },
  {
   "cell_type": "code",
   "execution_count": 16,
   "id": "a4b84719-d5e5-48ec-8170-2e1d84a8b02e",
   "metadata": {},
   "outputs": [],
   "source": [
    "df2=pd.read_csv(\"https://raw.githubusercontent.com/owid/covid-19-data/master/public/data/owid-covid-data.csv\")"
   ]
  },
  {
   "cell_type": "code",
   "execution_count": 26,
   "id": "4957694d-694c-4c8e-82c3-927ff270eee3",
   "metadata": {},
   "outputs": [
    {
     "data": {
      "text/plain": [
       "54772    32365998.0\n",
       "54773    32365998.0\n",
       "54774    32365998.0\n",
       "54775    32365998.0\n",
       "54776    32365998.0\n",
       "Name: population, dtype: float64"
      ]
     },
     "execution_count": 26,
     "metadata": {},
     "output_type": "execute_result"
    }
   ],
   "source": [
    "df2[df2.location==\"Malaysia\"].population.tail()"
   ]
  },
  {
   "cell_type": "code",
   "execution_count": 28,
   "id": "53caa70d-9057-4b4f-a47b-fc013552174d",
   "metadata": {},
   "outputs": [],
   "source": [
    "df3_(\"https://raw.githubusercontent.com/owid/covid-19-data/master/public/data/vaccinations/country_data/Malaysia.csv\")"
   ]
  },
  {
   "cell_type": "code",
   "execution_count": 41,
   "id": "5e3e4dc0-1c6b-452c-a3a9-4e49b8f1861c",
   "metadata": {},
   "outputs": [
    {
     "name": "stdout",
     "output_type": "stream",
     "text": [
      "Malaysia Population =  32365998\n",
      "Cases 7 days =  5335.285714285715\n",
      "ICU 7 days =  874.1428571428571\n",
      "Fully Vaccinted =  2021956\n"
     ]
    }
   ],
   "source": [
    "fully_vacc=df3.tail(1).people_fully_vaccinated.values[0]\n",
    "population=32365998\n",
    "cases_7days_mean=df[\"cases\"].diff().tail(7).mean()\n",
    "icu_7days_mean=df[\"icu\"].tail(7).mean()\n",
    "\n",
    "print(\"Malaysia Population = \",str(population))\n",
    "print(\"Cases 7 days = \",str(cases_7days_mean))\n",
    "print(\"ICU 7 days = \",str(icu_7days_mean))\n",
    "print(\"Fully Vaccinted = \",str (fully_vacc))"
   ]
  },
  {
   "cell_type": "markdown",
   "id": "5c11da5c-3c31-4390-b391-2d5fda593843",
   "metadata": {},
   "source": [
    "### Phase one\n",
    "This represents the current state Malaysia is in with PKP restriction measures.\n",
    "\n",
    "### Phase two\n",
    "The government will only consider transiting from phase one to phase two, if:\n",
    "The average daily case of COVID-19 is below 4,000 cases;\n",
    "The public health system is no longer at a critical level, with the rate of ICU ward occupancy at moderate levels; and\n",
    "10% of the population has received two doses of vaccine injections.\n",
    "\n",
    "### Phase three\n",
    "The government will only consider transiting from phase two to phase three, if:\n",
    "The average daily case of COVI0-19 falls below 2,000 cases;\n",
    "The public health system is at a comfortable level, with the rate of ICU ward occupancy at an adequate level;\n",
    "40% of the country’s population has received two doses of vaccine injections.\n",
    "\n",
    "\n",
    "### Phase four\n",
    "The government will only consider transiting from phase three to phase four, if:\n",
    "\n",
    "The average daily case of COVID-19 is below 500 cases;\n",
    "The public health system is at a safe level, with the rate of ICU ward occupancy at an adequate level; and\n",
    "60% of the country’s population has received two doses of vaccine injections.\n",
    "\n"
   ]
  },
  {
   "cell_type": "code",
   "execution_count": 119,
   "id": "af11796e-3edb-479d-bafd-b852542d47be",
   "metadata": {},
   "outputs": [],
   "source": [
    "def results_covid(case,case_max,icu,icu_max,vacc):\n",
    "    if (cases_7days_mean-case_max>0):\n",
    "        print(\"We need to lessen average positive case by :\" ,str(int(case-case_max)))\n",
    "    else:\n",
    "        print(\"We Reached The Target\")\n",
    "    if (icu_7days_mean-icu_max>0):\n",
    "        print(\"We need to lessen average ICU case by about :\" ,str(int(icu-icu_max)))\n",
    "    else:\n",
    "        print(\"ICU seem to be in Acceptable Condition\")\n",
    "    print(\"Our current Vaccination is about: \",str(round(vacc/population*100,2)),\" of the population\")"
   ]
  },
  {
   "cell_type": "code",
   "execution_count": 128,
   "id": "964adbbb-d80b-4ef8-9d12-3656f1362cf3",
   "metadata": {},
   "outputs": [
    {
     "name": "stdout",
     "output_type": "stream",
     "text": [
      "We are in Phase 1\n",
      "We need to lessen average positive case by : 1335\n",
      "ICU seem to be in Acceptable Condition\n",
      "Our current Vaccination is about:  6.25  of the population\n"
     ]
    }
   ],
   "source": [
    "fully_vacc=df3.tail(1).people_fully_vaccinated.values[0]\n",
    "population=32365998\n",
    "cases_7days_mean=df[\"cases\"].diff().tail(7).mean()\n",
    "icu_7days_mean=df[\"icu\"].tail(7).mean()\n",
    "\n",
    "\n",
    "if ((cases_7days_mean<500)&((icu_7days_mean)<500)&((fully_vacc/population)>.6)):\n",
    "    print(\"We are in Phase 4\")\n",
    "elif ((cases_7days_mean<2000)&((icu_7days_mean)<700)&((fully_vacc/population)>.4)):\n",
    "    print(\"We are in Phase 3\")\n",
    "    results_covid(cases_7days_mean,500,icu_7days_mean,500,fully_vacc)\n",
    "elif ((cases_7days_mean<4000)&((icu_7days_mean)<900)&((fully_vacc/population)>.1)):\n",
    "    print(\"We are in Phase 2\")\n",
    "    results_covid(cases_7days_mean,2000,icu_7days_mean,700,fully_vacc)\n",
    "else:\n",
    "    print(\"We are in Phase 1\")\n",
    "    results_covid(cases_7days_mean,4000,icu_7days_mean,1000,fully_vacc)\n"
   ]
  }
 ],
 "metadata": {
  "kernelspec": {
   "display_name": "Python 3",
   "language": "python",
   "name": "python3"
  },
  "language_info": {
   "codemirror_mode": {
    "name": "ipython",
    "version": 3
   },
   "file_extension": ".py",
   "mimetype": "text/x-python",
   "name": "python",
   "nbconvert_exporter": "python",
   "pygments_lexer": "ipython3",
   "version": "3.9.5"
  }
 },
 "nbformat": 4,
 "nbformat_minor": 5
}
