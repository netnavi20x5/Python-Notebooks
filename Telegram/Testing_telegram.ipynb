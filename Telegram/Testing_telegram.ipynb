{
 "cells": [
  {
   "cell_type": "code",
   "execution_count": 7,
   "id": "a856b071-dd6a-4d9b-837c-88deef6cce5e",
   "metadata": {},
   "outputs": [],
   "source": [
    "import time \n",
    "import requests \n",
    "import configparser \n"
   ]
  },
  {
   "cell_type": "code",
   "execution_count": 8,
   "id": "1f35b333-9f7c-415f-8423-a88a0fc83f17",
   "metadata": {},
   "outputs": [],
   "source": [
    "config = configparser.ConfigParser()\n",
    "config.read('..\\..\\config.conf')\n",
    "#onfig.sections()\n",
    "#config[\"telegram_RedNavi_bot\"]['bot_token']\n",
    "bot_token = config[\"telegram_RedNavi_bot\"]['bot_token']\n",
    "bot_chatID = config[\"telegram_RedNavi_bot\"]['bot_chatID']"
   ]
  },
  {
   "cell_type": "code",
   "execution_count": 10,
   "id": "8cb3c124-5887-4243-b694-87d7f0f560f1",
   "metadata": {},
   "outputs": [
    {
     "data": {
      "text/plain": [
       "{'ok': True,\n",
       " 'result': {'message_id': 2384,\n",
       "  'from': {'id': 247419374,\n",
       "   'is_bot': True,\n",
       "   'first_name': 'Personal_help',\n",
       "   'username': 'RedNavi_bot'},\n",
       "  'chat': {'id': -562593592,\n",
       "   'title': 'Bot Famliy',\n",
       "   'type': 'group',\n",
       "   'all_members_are_administrators': True},\n",
       "  'date': 1623590919,\n",
       "  'photo': [{'file_id': 'AgACAgUAAxkDAAIJUGDGCAcaWpa5wosmF9QpmAuPA2X-AAIorDEbPsExVoBriHUoiEgk7BegcnQAAwEAAwIAA3MAA0VjAAIfBA',\n",
       "    'file_unique_id': 'AQAD7BegcnQAA0VjAAI',\n",
       "    'file_size': 1265,\n",
       "    'width': 90,\n",
       "    'height': 59},\n",
       "   {'file_id': 'AgACAgUAAxkDAAIJUGDGCAcaWpa5wosmF9QpmAuPA2X-AAIorDEbPsExVoBriHUoiEgk7BegcnQAAwEAAwIAA20AA0RjAAIfBA',\n",
       "    'file_unique_id': 'AQAD7BegcnQAA0RjAAI',\n",
       "    'file_size': 16447,\n",
       "    'width': 320,\n",
       "    'height': 210},\n",
       "   {'file_id': 'AgACAgUAAxkDAAIJUGDGCAcaWpa5wosmF9QpmAuPA2X-AAIorDEbPsExVoBriHUoiEgk7BegcnQAAwEAAwIAA3gAA0NjAAIfBA',\n",
       "    'file_unique_id': 'AQAD7BegcnQAA0NjAAI',\n",
       "    'file_size': 68140,\n",
       "    'width': 800,\n",
       "    'height': 526},\n",
       "   {'file_id': 'AgACAgUAAxkDAAIJUGDGCAcaWpa5wosmF9QpmAuPA2X-AAIorDEbPsExVoBriHUoiEgk7BegcnQAAwEAAwIAA3kAA0JjAAIfBA',\n",
       "    'file_unique_id': 'AQAD7BegcnQAA0JjAAI',\n",
       "    'file_size': 146057,\n",
       "    'width': 1280,\n",
       "    'height': 842},\n",
       "   {'file_id': 'AgACAgUAAxkDAAIJUGDGCAcaWpa5wosmF9QpmAuPA2X-AAIorDEbPsExVoBriHUoiEgk7BegcnQAAwEAAwIAA3cAA0ZjAAIfBA',\n",
       "    'file_unique_id': 'AQAD7BegcnQAA0ZjAAI',\n",
       "    'file_size': 446752,\n",
       "    'width': 2560,\n",
       "    'height': 1684}]}}"
      ]
     },
     "execution_count": 10,
     "metadata": {},
     "output_type": "execute_result"
    }
   ],
   "source": [
    "class MyTelegram:\n",
    "    bot_token = \"\"\n",
    "    bot_chatID = \"\"\n",
    "\n",
    "    def telegram_bot_init(bot_token,bot_chatID):\n",
    "        bot_token = bot_token\n",
    "        bot_chatID = bot_chatID\n",
    "\n",
    "    def telegram_bot_sendtext(bot_message): #Tutorial \n",
    "        telegram='https://api.telegram.org/bot'\n",
    "        send_text = 'https://api.telegram.org/bot' + bot_token + '/sendMessage?chat_id=' + bot_chatID + '&parse_mode=Markdown&text=' + bot_message\n",
    "        response = requests.get(send_text)\n",
    "        return response.json()\n",
    "    def telegram_bot_method_get(method,dict_param_in): #Tutorial \n",
    "        dict_param=dict()\n",
    "        dict_param=dict_param_in\n",
    "        telegram='https://api.telegram.org/bot'\n",
    "        #url = telegram + bot_token + '/sendMessage?chat_id=' + bot_chatID + '&parse_mode=Markdown&text=' + bot_message\n",
    "        url=telegram+bot_token +'/'+method+'?'\n",
    "        for i,param in enumerate(dict_param):\n",
    "            url=url+param+\"=\"+dict_param[param]\n",
    "            if (i<len(dict_param)-1):\n",
    "                url=url+\"&\"\n",
    "        print(url)\n",
    "        response = requests.get(url)\n",
    "        return response.json()\n",
    "        #response = requests.get(send_text)\n",
    "        #return response.json()\n",
    "    def telegram_bot_method_post_files(method,dict_param_in,files_in): #Tutorial \n",
    "        #clear  memory\n",
    "        dict_param=dict()\n",
    "        dict_param=dict_param_in\n",
    "        files=\"\"\n",
    "        #clear  memory\n",
    "        files=files_in\n",
    "        telegram='https://api.telegram.org/bot'\n",
    "        url=telegram+bot_token +'/'+method+'?'\n",
    "        for i,param in enumerate(dict_param):\n",
    "            url=url+param+\"=\"+dict_param[param]\n",
    "            if (i<len(dict_param)-1):\n",
    "                url=url+\"&\"\n",
    "        response = requests.post(url,files=files)\n",
    "        return response.json()        \n",
    "navi=MyTelegram\n",
    "navi.telegram_bot_init(config[\"telegram_RedNavi_bot\"]['bot_token'],config[\"telegram_RedNavi_bot\"]['bot_chatID'])\n",
    "dict_param=dict()\n",
    "dict_param[\"user_id\"]=\"269721616\"\n",
    "\n",
    "dict_param=dict()\n",
    "dict_request_param=dict()\n",
    "#open(\"monika.png\", 'rb')\n",
    "#navi.telegram_bot_method_post(\"sendPhoto\",dict_param,dict_request_param)\n",
    "#https://api.telegram.org/bot247419374:AAGMXRpFeh26gzp4vF-I7VK2M4EEpNONCmU/sendPhoto?chat_id=-562593592,'files' <_io.BufferedReader name='monika.png'>}\n",
    "dict_param[\"chat_id\"]=\"-562593592\"\n",
    "files={'photo': open(\"monika.png\", 'rb')}\n",
    "#test=requests.post(\"https://api.telegram.org/bot247419374:AAGMXRpFeh26gzp4vF-I7VK2M4EEpNONCmU/sendPhoto?chat_id=-562593592\",files=files)\n",
    "navi.telegram_bot_method_post_files(\"sendPhoto\",dict_param,files)"
   ]
  },
  {
   "cell_type": "code",
   "execution_count": 12,
   "id": "e8c1988f-b1db-439f-8fb6-07528c804fed",
   "metadata": {},
   "outputs": [
    {
     "ename": "AttributeError",
     "evalue": "type object 'MyTelegram' has no attribute 'telegram_bot_method'",
     "output_type": "error",
     "traceback": [
      "\u001b[1;31m---------------------------------------------------------------------------\u001b[0m",
      "\u001b[1;31mAttributeError\u001b[0m                            Traceback (most recent call last)",
      "\u001b[1;32m<ipython-input-12-3575cec21a19>\u001b[0m in \u001b[0;36m<module>\u001b[1;34m\u001b[0m\n\u001b[0;32m      3\u001b[0m \u001b[0mdict_param\u001b[0m\u001b[1;33m=\u001b[0m\u001b[0mdict\u001b[0m\u001b[1;33m(\u001b[0m\u001b[1;33m)\u001b[0m\u001b[1;33m\u001b[0m\u001b[1;33m\u001b[0m\u001b[0m\n\u001b[0;32m      4\u001b[0m \u001b[0mdict_param\u001b[0m\u001b[1;33m[\u001b[0m\u001b[1;34m\"chat_id\"\u001b[0m\u001b[1;33m]\u001b[0m\u001b[1;33m=\u001b[0m\u001b[1;34m\"-562593592\"\u001b[0m\u001b[1;33m\u001b[0m\u001b[1;33m\u001b[0m\u001b[0m\n\u001b[1;32m----> 5\u001b[1;33m \u001b[0mnavi\u001b[0m\u001b[1;33m.\u001b[0m\u001b[0mtelegram_bot_method\u001b[0m\u001b[1;33m(\u001b[0m\u001b[1;34m\"getChatMember\"\u001b[0m\u001b[1;33m,\u001b[0m\u001b[1;34m\"dict_param\"\u001b[0m\u001b[1;33m)\u001b[0m\u001b[1;33m\u001b[0m\u001b[1;33m\u001b[0m\u001b[0m\n\u001b[0m",
      "\u001b[1;31mAttributeError\u001b[0m: type object 'MyTelegram' has no attribute 'telegram_bot_method'"
     ]
    }
   ],
   "source": [
    "navi=MyTelegram\n",
    "navi.telegram_bot_init(config[\"telegram_RedNavi_bot\"]['bot_token'],config[\"telegram_RedNavi_bot\"]['bot_chatID'])\n",
    "dict_param=dict()\n",
    "dict_param[\"chat_id\"]=\"-562593592\"\n",
    "navi.telegram_bot_method(\"getChatMember\",\"dict_param\")"
   ]
  },
  {
   "cell_type": "code",
   "execution_count": 13,
   "id": "7aea1e74-a619-40b2-87ed-653f5299fccd",
   "metadata": {},
   "outputs": [
    {
     "data": {
      "text/plain": [
       "{'ok': True,\n",
       " 'result': {'message_id': 2385,\n",
       "  'from': {'id': 247419374,\n",
       "   'is_bot': True,\n",
       "   'first_name': 'Personal_help',\n",
       "   'username': 'RedNavi_bot'},\n",
       "  'chat': {'id': -562593592,\n",
       "   'title': 'Bot Famliy',\n",
       "   'type': 'group',\n",
       "   'all_members_are_administrators': True},\n",
       "  'date': 1623590924,\n",
       "  'text': 'WENG'}}"
      ]
     },
     "execution_count": 13,
     "metadata": {},
     "output_type": "execute_result"
    }
   ],
   "source": [
    "navi=MyTelegram\n",
    "navi.telegram_bot_init(config[\"telegram_RedNavi_bot\"]['bot_token'],config[\"telegram_RedNavi_bot\"]['bot_chatID'])\n",
    "navi.telegram_bot_sendtext(\"WENG\")"
   ]
  },
  {
   "cell_type": "code",
   "execution_count": 14,
   "id": "b5eb509a-5db9-430e-96da-e1b861bd2fdc",
   "metadata": {},
   "outputs": [
    {
     "name": "stdout",
     "output_type": "stream",
     "text": [
      "https://api.telegram.org/bot247419374:AAGMXRpFeh26gzp4vF-I7VK2M4EEpNONCmU/getUpdates?user_id=247419374&limit=1&offset=-1\n"
     ]
    }
   ],
   "source": [
    "navi2=MyTelegram\n",
    "navi2.telegram_bot_init(config[\"telegram_RedNavi_bot\"]['bot_token'],config[\"telegram_RedNavi_bot\"]['bot_chatID'])\n",
    "method=\"getUpdates\"\n",
    "dict_param_in=dict()\n",
    "dict_param_in[\"user_id\"]=\"247419374\"\n",
    "dict_param_in[\"limit\"]=\"1\"\n",
    "dict_param_in[\"offset\"]=\"-1\"\n",
    "data=navi2.telegram_bot_method_get(method,dict_param_in)\n"
   ]
  },
  {
   "cell_type": "code",
   "execution_count": 31,
   "id": "1f148f42-0aa2-4841-b50c-34f8376b5db7",
   "metadata": {},
   "outputs": [
    {
     "name": "stdout",
     "output_type": "stream",
     "text": [
      "end\n",
      "\n",
      "end\n",
      "\n",
      " result\n"
     ]
    }
   ],
   "source": [
    "def check_type(data):\n",
    "    if isinstance(data,dict):\n",
    "        print(data.keys())\n",
    "        return data.keys()\n",
    "    elif isinstance(data,list):\n",
    "        print (len(data))\n",
    "        return len(data)\n",
    "    else:\n",
    "        print(type(data))\n",
    "        return type(data)\n",
    "\n",
    "def check_data (data):    \n",
    "    print(\"dosomething\")\n",
    "\n",
    "def json_tree(data):\n",
    "    text=\"\"\n",
    "    try:\n",
    "        if len(data)>0:\n",
    "            #print (\"got data\")\n",
    "            if isinstance(data,dict):\n",
    "                for i in data:\n",
    "                    #print (i)\n",
    "                    text=\" \"+i\n",
    "                    json_tree(data[i])\n",
    "            if isinstance(data,list):\n",
    "                for i,x in enumerate(data):\n",
    "                    #print(data.keys())\n",
    "                    #print (i)\n",
    "                    text=\" \"+i\n",
    "                    json_tree(data[i])\n",
    "    except:\n",
    "        print(\"end\")\n",
    "    print(text)\n",
    "\n",
    "json_tree(data)\n",
    "#type(data)dat\n",
    "#check_type(data[\"ok\"])\n",
    "#type(type(data))\n"
   ]
  },
  {
   "cell_type": "code",
   "execution_count": 186,
   "id": "67a84624-15af-484f-810b-8a673ceb1748",
   "metadata": {},
   "outputs": [
    {
     "name": "stdout",
     "output_type": "stream",
     "text": [
      "True\n"
     ]
    },
    {
     "ename": "TypeError",
     "evalue": "'bool' object is not iterable",
     "output_type": "error",
     "traceback": [
      "\u001b[1;31m---------------------------------------------------------------------------\u001b[0m",
      "\u001b[1;31mTypeError\u001b[0m                                 Traceback (most recent call last)",
      "\u001b[1;32m<ipython-input-186-a26f9582db01>\u001b[0m in \u001b[0;36m<module>\u001b[1;34m\u001b[0m\n\u001b[0;32m      1\u001b[0m \u001b[1;32mfor\u001b[0m \u001b[0mi\u001b[0m\u001b[1;33m,\u001b[0m\u001b[0ma\u001b[0m \u001b[1;32min\u001b[0m \u001b[0menumerate\u001b[0m\u001b[1;33m(\u001b[0m\u001b[0mdata\u001b[0m\u001b[1;33m)\u001b[0m\u001b[1;33m:\u001b[0m\u001b[1;33m\u001b[0m\u001b[1;33m\u001b[0m\u001b[0m\n\u001b[0;32m      2\u001b[0m     \u001b[0mprint\u001b[0m \u001b[1;33m(\u001b[0m\u001b[0mstr\u001b[0m\u001b[1;33m(\u001b[0m\u001b[0mdata\u001b[0m\u001b[1;33m[\u001b[0m\u001b[0ma\u001b[0m\u001b[1;33m]\u001b[0m\u001b[1;33m)\u001b[0m\u001b[1;33m)\u001b[0m\u001b[1;33m\u001b[0m\u001b[1;33m\u001b[0m\u001b[0m\n\u001b[1;32m----> 3\u001b[1;33m     \u001b[1;32mfor\u001b[0m \u001b[0mi\u001b[0m\u001b[1;33m,\u001b[0m\u001b[0mb\u001b[0m \u001b[1;32min\u001b[0m \u001b[0menumerate\u001b[0m\u001b[1;33m(\u001b[0m\u001b[0mdict\u001b[0m\u001b[1;33m(\u001b[0m\u001b[0mdata\u001b[0m\u001b[1;33m[\u001b[0m\u001b[0ma\u001b[0m\u001b[1;33m]\u001b[0m\u001b[1;33m)\u001b[0m\u001b[1;33m)\u001b[0m\u001b[1;33m:\u001b[0m\u001b[1;33m\u001b[0m\u001b[1;33m\u001b[0m\u001b[0m\n\u001b[0m\u001b[0;32m      4\u001b[0m         \u001b[0mprint\u001b[0m \u001b[1;33m(\u001b[0m\u001b[0mb\u001b[0m\u001b[1;33m)\u001b[0m\u001b[1;33m\u001b[0m\u001b[1;33m\u001b[0m\u001b[0m\n",
      "\u001b[1;31mTypeError\u001b[0m: 'bool' object is not iterable"
     ]
    }
   ],
   "source": []
  }
 ],
 "metadata": {
  "kernelspec": {
   "display_name": "Python 3",
   "language": "python",
   "name": "python3"
  },
  "language_info": {
   "codemirror_mode": {
    "name": "ipython",
    "version": 3
   },
   "file_extension": ".py",
   "mimetype": "text/x-python",
   "name": "python",
   "nbconvert_exporter": "python",
   "pygments_lexer": "ipython3",
   "version": "3.9.5"
  }
 },
 "nbformat": 4,
 "nbformat_minor": 5
}
