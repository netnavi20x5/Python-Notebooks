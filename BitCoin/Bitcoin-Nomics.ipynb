{
 "cells": [
  {
   "cell_type": "code",
   "execution_count": 1,
   "id": "976ab92a-0b39-4129-b8ae-3b430c9db592",
   "metadata": {},
   "outputs": [],
   "source": [
    "import configparser\n",
    "import json\n",
    "import requests\n",
    "import pandas as pd\n",
    "import os\n",
    "from time import gmtime, strftime\n",
    "import time"
   ]
  },
  {
   "cell_type": "code",
   "execution_count": 2,
   "id": "ee8df815-aca5-4b7e-a9cc-2eccbede5a54",
   "metadata": {},
   "outputs": [
    {
     "data": {
      "text/plain": [
       "['..\\\\..\\\\keys.conf']"
      ]
     },
     "execution_count": 2,
     "metadata": {},
     "output_type": "execute_result"
    }
   ],
   "source": [
    "#use json parser to read key\n",
    "\n",
    "config = configparser.ConfigParser()\n",
    "config.read('..\\\\..\\\\keys.conf')\n"
   ]
  },
  {
   "cell_type": "markdown",
   "id": "2c981cee-8c03-4073-8475-7921df3074c0",
   "metadata": {},
   "source": [
    "## Source key using nomic.com API\n",
    "Nomics Cryptocurrency & Bitcoin API (1.0.0)\n",
    "API Documentation > https://nomics.com/docs/"
   ]
  },
  {
   "cell_type": "code",
   "execution_count": 3,
   "id": "f2e06803-bcd6-4405-b925-223b1ea04446",
   "metadata": {},
   "outputs": [
    {
     "name": "stdout",
     "output_type": "stream",
     "text": [
      "https://api.nomics.com/v1/markets?key=86434ca916879c6139a68079206a07392e39c915&format='csv'\n"
     ]
    }
   ],
   "source": [
    "#Test API request\n",
    "\n",
    "##https://api.nomics.com/v1/markets?key=your-key-here\n",
    "    \n",
    "api_key=config[\"nomics\"][\"api_key\"].replace('\"',\"\")\n",
    "\n",
    "sample_x = requests.get(f\"https://api.nomics.com/v1/markets?key={api_key}&format='csv'\")\n",
    "print(f\"https://api.nomics.com/v1/markets?key={api_key}&format='csv'\")\n",
    "f = open(\"markets.json\", \"w\", encoding=\"utf-8\")\n",
    "f.write(sample_x.text)\n",
    "f.close()\n"
   ]
  },
  {
   "cell_type": "code",
   "execution_count": 123,
   "id": "709a5952-c10f-4b34-9afa-64e4566b3810",
   "metadata": {},
   "outputs": [
    {
     "data": {
      "text/plain": [
       "array(['LTC', 'XRP', 'ETH', 'BTC', 'BCH'], dtype=object)"
      ]
     },
     "execution_count": 123,
     "metadata": {},
     "output_type": "execute_result"
    }
   ],
   "source": [
    "df=pd.read_json(\"markets.json\")\n",
    "df[(df.exchange=='luno')&(df.market.str.contains(\"MYR\"))][\"base\"].values"
   ]
  },
  {
   "cell_type": "code",
   "execution_count": 97,
   "id": "f5bd2a4e-7dd4-43db-886b-0379b69ef892",
   "metadata": {},
   "outputs": [],
   "source": [
    "url= (f\"https://api.nomics.com/v1/volume/history?key={api_key}&start=2020-05-10T00:00:00Z&end=2020-05-14T00:00:00Z&convert=MYR\")\n",
    "df_price=pd.read_json(url)\n",
    "url=(f\"https://api.nomics.com/v1/exchange-rates/history?key={api_key}&currency=BTC&start=2018-04-14T00%3A00%3A00Z&end=2018-05-14T00%3A00%3A00Z\")\n",
    "#url=(f\"https://api.nomics.com/v1/exchange-rates/history?key={api_key}&currency=BTC&start=2018-04-14T00%3A00%3A00Z\")\n",
    "#url=(f\"https://api.nomics.com/v1/currencies/ticker?key={api_key}&ids=BTC,ETH,XRP&interval=1h,7d&convert=MYR&per-page=100&page=1\")\n",
    "url=(f\"https://api.nomics.com/v1/exchanges/ticker?key={api_key}&ids=binance,gdax&interval=1d,30d&convert=EUR&per-page=100&page=1\")\n",
    "\n",
    "url=(f\"https://api.nomics.com/v1/exchange-rates/history?{api_key}&currency=BTC&start=2018-04-14T00%3A00%3A00Z&end=2018-05-14T00%3A00%3A00Z\")\n",
    "\n",
    "url=(f\"https://api.nomics.com/v1/exchange-rates/history?{api_key}&currency=BTC&start=2018-04-14T00%3A00%3A00Z&end=2018-05-14T00%3A00%3A00Z\")\n",
    "url=(f\"https://api.nomics.com/v1/exchange-rates?{api_key}\")\n",
    "\n",
    "url = f\"https://api.nomics.com/v1/markets?key=your-key-here&exchange=binance&base=BTC,ETH,LTC,XMR&quote=BTC,ETH,BNB\"\n",
    "#print(url)\n",
    "#df_price=pd.read_json(url)\n",
    "#df_price"
   ]
  },
  {
   "cell_type": "code",
   "execution_count": 125,
   "id": "50f526e5-624d-4f77-9c9f-c607d76bd530",
   "metadata": {},
   "outputs": [
    {
     "name": "stdout",
     "output_type": "stream",
     "text": [
      "https://api.nomics.com/v1/exchange-rates/history?key=86434ca916879c6139a68079206a07392e39c915&currency=LTC&start=2021-05-26T14:00:00Z&end=2021-05-27T14:00:00Z\n",
      "https://api.nomics.com/v1/exchange-rates/history?key=86434ca916879c6139a68079206a07392e39c915&currency=XRP&start=2021-05-26T14:00:00Z&end=2021-05-27T14:00:00Z\n",
      "https://api.nomics.com/v1/exchange-rates/history?key=86434ca916879c6139a68079206a07392e39c915&currency=ETH&start=2021-05-26T14:00:00Z&end=2021-05-27T14:00:00Z\n",
      "https://api.nomics.com/v1/exchange-rates/history?key=86434ca916879c6139a68079206a07392e39c915&currency=BTC&start=2021-05-26T14:00:00Z&end=2021-05-27T14:00:00Z\n",
      "https://api.nomics.com/v1/exchange-rates/history?key=86434ca916879c6139a68079206a07392e39c915&currency=BCH&start=2021-05-26T14:00:00Z&end=2021-05-27T14:00:00Z\n"
     ]
    },
    {
     "data": {
      "text/html": [
       "<div>\n",
       "<style scoped>\n",
       "    .dataframe tbody tr th:only-of-type {\n",
       "        vertical-align: middle;\n",
       "    }\n",
       "\n",
       "    .dataframe tbody tr th {\n",
       "        vertical-align: top;\n",
       "    }\n",
       "\n",
       "    .dataframe thead th {\n",
       "        text-align: right;\n",
       "    }\n",
       "</style>\n",
       "<table border=\"1\" class=\"dataframe\">\n",
       "  <thead>\n",
       "    <tr style=\"text-align: right;\">\n",
       "      <th></th>\n",
       "    </tr>\n",
       "  </thead>\n",
       "  <tbody>\n",
       "  </tbody>\n",
       "</table>\n",
       "</div>"
      ],
      "text/plain": [
       "Empty DataFrame\n",
       "Columns: []\n",
       "Index: []"
      ]
     },
     "execution_count": 125,
     "metadata": {},
     "output_type": "execute_result"
    }
   ],
   "source": [
    "from time import gmtime, strftime\n",
    "import time\n",
    "import datetime\n",
    "\n",
    "result=time.gmtime()\n",
    "year=result.tm_year\n",
    "month=result.tm_mon\n",
    "day=result.tm_mday\n",
    "hour=result.tm_hour\n",
    "minute=0\n",
    "second=0\n",
    "result.tm_hour\n",
    "start_time_gmt = datetime.datetime(year, month, day-1,hour)\n",
    "end_time_gmt = datetime.datetime(year, month, day,hour)\n",
    "start_time=start_time_gmt.strftime(\"%Y-%m-%dT%H:%M:%SZ\")\n",
    "end_time=end_time_gmt.strftime(\"%Y-%m-%dT%H:%M:%SZ\")\n",
    "#end_time=time.strftime(\"%Y-%m-%dT%I:%M:%SZ\", result)\n",
    "#print(t1)\n",
    "#print (start_time) \n",
    "#print(end_time)\n",
    "#print(\"\\nGMT: \"+time.strftime(\"%a,-%d %b %Y %I:%M:%S %p %Z\", time.gmtime()))\n",
    "#print(\"Local: \"+strftime(\"%a, %d %b %Y %I:%M:%S %p %Z\\n\"))\n",
    "\n",
    "currencies=['LTC', 'XRP', 'ETH', 'BTC', 'BCH']\n",
    "for i in currencies:\n",
    "    url = f\"https://api.nomics.com/v1/exchange-rates/history?key={api_key}&currency={i}&start={start_time}&end={end_time}\"\n",
    "    print(url)\n",
    "df_price=pd.read_json(url)\n",
    "df_price"
   ]
  },
  {
   "cell_type": "code",
   "execution_count": 141,
   "id": "7e7b4008-e847-4256-b44a-1299ff7fc56f",
   "metadata": {},
   "outputs": [
    {
     "data": {
      "text/html": [
       "<div>\n",
       "<style scoped>\n",
       "    .dataframe tbody tr th:only-of-type {\n",
       "        vertical-align: middle;\n",
       "    }\n",
       "\n",
       "    .dataframe tbody tr th {\n",
       "        vertical-align: top;\n",
       "    }\n",
       "\n",
       "    .dataframe thead th {\n",
       "        text-align: right;\n",
       "    }\n",
       "</style>\n",
       "<table border=\"1\" class=\"dataframe\">\n",
       "  <thead>\n",
       "    <tr style=\"text-align: right;\">\n",
       "      <th></th>\n",
       "      <th>id</th>\n",
       "      <th>currency</th>\n",
       "      <th>symbol</th>\n",
       "      <th>name</th>\n",
       "      <th>logo_url</th>\n",
       "      <th>status</th>\n",
       "      <th>price</th>\n",
       "      <th>price_date</th>\n",
       "      <th>price_timestamp</th>\n",
       "      <th>circulating_supply</th>\n",
       "      <th>...</th>\n",
       "      <th>num_pairs</th>\n",
       "      <th>num_pairs_unmapped</th>\n",
       "      <th>first_candle</th>\n",
       "      <th>first_trade</th>\n",
       "      <th>first_order_book</th>\n",
       "      <th>rank</th>\n",
       "      <th>high</th>\n",
       "      <th>high_timestamp</th>\n",
       "      <th>1h</th>\n",
       "      <th>7d</th>\n",
       "    </tr>\n",
       "  </thead>\n",
       "  <tbody>\n",
       "    <tr>\n",
       "      <th>0</th>\n",
       "      <td>BTC</td>\n",
       "      <td>BTC</td>\n",
       "      <td>BTC</td>\n",
       "      <td>Bitcoin</td>\n",
       "      <td>https://s3.us-east-2.amazonaws.com/nomics-api/...</td>\n",
       "      <td>active</td>\n",
       "      <td>163102.343807</td>\n",
       "      <td>2021-05-26T00:00:00Z</td>\n",
       "      <td>2021-05-26T14:30:00Z</td>\n",
       "      <td>18718906</td>\n",
       "      <td>...</td>\n",
       "      <td>60343</td>\n",
       "      <td>5110</td>\n",
       "      <td>2011-08-18T00:00:00Z</td>\n",
       "      <td>2011-08-18T00:00:00Z</td>\n",
       "      <td>2017-01-06T00:00:00Z</td>\n",
       "      <td>1</td>\n",
       "      <td>262456.267213</td>\n",
       "      <td>2021-04-13T00:00:00Z</td>\n",
       "      <td>{'volume': '17106993712.36', 'price_change': '...</td>\n",
       "      <td>{'volume': '2224581282674.95', 'price_change':...</td>\n",
       "    </tr>\n",
       "    <tr>\n",
       "      <th>1</th>\n",
       "      <td>ETH</td>\n",
       "      <td>ETH</td>\n",
       "      <td>ETH</td>\n",
       "      <td>Ethereum</td>\n",
       "      <td>https://s3.us-east-2.amazonaws.com/nomics-api/...</td>\n",
       "      <td>active</td>\n",
       "      <td>11515.977282</td>\n",
       "      <td>2021-05-26T00:00:00Z</td>\n",
       "      <td>2021-05-26T14:30:00Z</td>\n",
       "      <td>116032605</td>\n",
       "      <td>...</td>\n",
       "      <td>41971</td>\n",
       "      <td>27564</td>\n",
       "      <td>2015-08-07T00:00:00Z</td>\n",
       "      <td>2015-08-07T00:00:00Z</td>\n",
       "      <td>2018-08-29T00:00:00Z</td>\n",
       "      <td>2</td>\n",
       "      <td>17106.274611</td>\n",
       "      <td>2021-05-11T00:00:00Z</td>\n",
       "      <td>{'volume': '12056012429.56', 'price_change': '...</td>\n",
       "      <td>{'volume': '2522837705564.44', 'price_change':...</td>\n",
       "    </tr>\n",
       "    <tr>\n",
       "      <th>2</th>\n",
       "      <td>XRP</td>\n",
       "      <td>XRP</td>\n",
       "      <td>XRP</td>\n",
       "      <td>Ripple</td>\n",
       "      <td>https://s3.us-east-2.amazonaws.com/nomics-api/...</td>\n",
       "      <td>active</td>\n",
       "      <td>4.132630</td>\n",
       "      <td>2021-05-26T00:00:00Z</td>\n",
       "      <td>2021-05-26T14:30:00Z</td>\n",
       "      <td>46143602688</td>\n",
       "      <td>...</td>\n",
       "      <td>1507</td>\n",
       "      <td>57</td>\n",
       "      <td>2013-05-09T00:00:00Z</td>\n",
       "      <td>2013-05-09T00:00:00Z</td>\n",
       "      <td>2018-08-29T00:00:00Z</td>\n",
       "      <td>6</td>\n",
       "      <td>11.080065</td>\n",
       "      <td>2018-01-07T00:00:00Z</td>\n",
       "      <td>{'volume': '1664261396.65', 'price_change': '-...</td>\n",
       "      <td>{'volume': '372370355320.48', 'price_change': ...</td>\n",
       "    </tr>\n",
       "  </tbody>\n",
       "</table>\n",
       "<p>3 rows × 24 columns</p>\n",
       "</div>"
      ],
      "text/plain": [
       "    id currency symbol      name  \\\n",
       "0  BTC      BTC    BTC   Bitcoin   \n",
       "1  ETH      ETH    ETH  Ethereum   \n",
       "2  XRP      XRP    XRP    Ripple   \n",
       "\n",
       "                                            logo_url  status          price  \\\n",
       "0  https://s3.us-east-2.amazonaws.com/nomics-api/...  active  163102.343807   \n",
       "1  https://s3.us-east-2.amazonaws.com/nomics-api/...  active   11515.977282   \n",
       "2  https://s3.us-east-2.amazonaws.com/nomics-api/...  active       4.132630   \n",
       "\n",
       "             price_date       price_timestamp  circulating_supply  ...  \\\n",
       "0  2021-05-26T00:00:00Z  2021-05-26T14:30:00Z            18718906  ...   \n",
       "1  2021-05-26T00:00:00Z  2021-05-26T14:30:00Z           116032605  ...   \n",
       "2  2021-05-26T00:00:00Z  2021-05-26T14:30:00Z         46143602688  ...   \n",
       "\n",
       "   num_pairs  num_pairs_unmapped          first_candle           first_trade  \\\n",
       "0      60343                5110  2011-08-18T00:00:00Z  2011-08-18T00:00:00Z   \n",
       "1      41971               27564  2015-08-07T00:00:00Z  2015-08-07T00:00:00Z   \n",
       "2       1507                  57  2013-05-09T00:00:00Z  2013-05-09T00:00:00Z   \n",
       "\n",
       "       first_order_book  rank           high        high_timestamp  \\\n",
       "0  2017-01-06T00:00:00Z     1  262456.267213  2021-04-13T00:00:00Z   \n",
       "1  2018-08-29T00:00:00Z     2   17106.274611  2021-05-11T00:00:00Z   \n",
       "2  2018-08-29T00:00:00Z     6      11.080065  2018-01-07T00:00:00Z   \n",
       "\n",
       "                                                  1h  \\\n",
       "0  {'volume': '17106993712.36', 'price_change': '...   \n",
       "1  {'volume': '12056012429.56', 'price_change': '...   \n",
       "2  {'volume': '1664261396.65', 'price_change': '-...   \n",
       "\n",
       "                                                  7d  \n",
       "0  {'volume': '2224581282674.95', 'price_change':...  \n",
       "1  {'volume': '2522837705564.44', 'price_change':...  \n",
       "2  {'volume': '372370355320.48', 'price_change': ...  \n",
       "\n",
       "[3 rows x 24 columns]"
      ]
     },
     "execution_count": 141,
     "metadata": {},
     "output_type": "execute_result"
    }
   ],
   "source": [
    "df_price"
   ]
  },
  {
   "cell_type": "code",
   "execution_count": 13,
   "id": "33e9c78b-0c72-41ed-b457-866b1602bac4",
   "metadata": {},
   "outputs": [
    {
     "data": {
      "text/plain": [
       "12"
      ]
     },
     "execution_count": 13,
     "metadata": {},
     "output_type": "execute_result"
    }
   ],
   "source": [
    "import time\n",
    "\n",
    "result = time.gmtime()\n",
    "result.tm_hour"
   ]
  }
 ],
 "metadata": {
  "kernelspec": {
   "display_name": "Python 3",
   "language": "python",
   "name": "python3"
  },
  "language_info": {
   "codemirror_mode": {
    "name": "ipython",
    "version": 3
   },
   "file_extension": ".py",
   "mimetype": "text/x-python",
   "name": "python",
   "nbconvert_exporter": "python",
   "pygments_lexer": "ipython3",
   "version": "3.9.5"
  }
 },
 "nbformat": 4,
 "nbformat_minor": 5
}
