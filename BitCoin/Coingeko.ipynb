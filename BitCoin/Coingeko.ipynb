{
 "cells": [
  {
   "cell_type": "code",
   "execution_count": null,
   "id": "fa314abe-b51d-4a55-93dd-b7ccd9effdb3",
   "metadata": {},
   "outputs": [
    {
     "name": "stdout",
     "output_type": "stream",
     "text": [
      "Requirement already satisfied: pycoingecko in c:\\users\\tm30231\\documents\\github\\git-env\\lib\\site-packages (2.1.0)\n",
      "Requirement already satisfied: requests in c:\\users\\tm30231\\documents\\github\\git-env\\lib\\site-packages (from pycoingecko) (2.25.1)\n",
      "Requirement already satisfied: chardet<5,>=3.0.2 in c:\\users\\tm30231\\documents\\github\\git-env\\lib\\site-packages (from requests->pycoingecko) (4.0.0)\n",
      "Requirement already satisfied: idna<3,>=2.5 in c:\\users\\tm30231\\documents\\github\\git-env\\lib\\site-packages (from requests->pycoingecko) (2.10)\n",
      "Requirement already satisfied: urllib3<1.27,>=1.21.1 in c:\\users\\tm30231\\documents\\github\\git-env\\lib\\site-packages (from requests->pycoingecko) (1.26.5)\n",
      "Requirement already satisfied: certifi>=2017.4.17 in c:\\users\\tm30231\\documents\\github\\git-env\\lib\\site-packages (from requests->pycoingecko) (2021.5.30)\n",
      "Requirement already satisfied: configparser in c:\\users\\tm30231\\documents\\github\\git-env\\lib\\site-packages (5.0.2)\n"
     ]
    }
   ],
   "source": [
    "!pip install pycoingecko\n",
    "!pip install configparser\n",
    "!pip install tabulate"
   ]
  },
  {
   "cell_type": "markdown",
   "id": "0d85dd53-f23d-47a9-ba25-b3f74176632d",
   "metadata": {},
   "source": [
    "## Source : https://github.com/man-c/pycoingecko\n",
    "\n",
    "CoinGecko API wrapper\n",
    "PyPi Version GitHub"
   ]
  },
  {
   "cell_type": "code",
   "execution_count": 1,
   "id": "a5eb837a-0475-4caf-b893-438b75d357a6",
   "metadata": {},
   "outputs": [],
   "source": [
    "import time \n",
    "import datetime\n",
    "import pandas as pd\n",
    "import requests\n",
    "import configparser\n",
    "from pycoingecko import CoinGeckoAPI\n",
    "\n",
    "cg = CoinGeckoAPI()"
   ]
  },
  {
   "cell_type": "code",
   "execution_count": 2,
   "id": "b0200385-2972-43db-965b-f4f2579e1f37",
   "metadata": {},
   "outputs": [
    {
     "data": {
      "text/plain": [
       "'247419374:AAGMXRpFeh26gzp4vF-I7VK2M4EEpNONCmU'"
      ]
     },
     "execution_count": 2,
     "metadata": {},
     "output_type": "execute_result"
    }
   ],
   "source": [
    "config = configparser.ConfigParser()\n",
    "config.read('..\\..\\config.conf')\n",
    "config.sections()\n",
    "config[\"telegram_RedNavi_bot\"]['bot_token']"
   ]
  },
  {
   "cell_type": "code",
   "execution_count": 3,
   "id": "e1c5000b-9f1e-40ae-90d7-109fcc79119d",
   "metadata": {},
   "outputs": [
    {
     "name": "stdout",
     "output_type": "stream",
     "text": [
      "bitcoin\n",
      "bitcoin-cash\n",
      "ethereum\n",
      "litecoin\n",
      "ripple\n"
     ]
    }
   ],
   "source": [
    "coins =['bitcoin', 'bitcoin-cash', 'ethereum', 'litecoin', 'ripple']\n",
    "currency=\"MYR\"\n",
    "coin_market=dict()\n",
    "coin_market_hourly=dict()\n",
    "for coin in coins:\n",
    "    print (coin)\n",
    "    coin_market[coin]=(cg.get_coin_market_chart_by_id(id=coin,vs_currency=\"MYR\",days=\"90\",interval=\"daily\"))\n",
    "    coin_market_hourly[coin]=(cg.get_coin_market_chart_by_id(id=coin,vs_currency=\"MYR\",days=\"90\",interval=\"hourly\"))"
   ]
  },
  {
   "cell_type": "code",
   "execution_count": 44,
   "id": "eeca27d3-1058-4114-a282-2c20533b80d5",
   "metadata": {},
   "outputs": [],
   "source": []
  },
  {
   "cell_type": "code",
   "execution_count": 16,
   "id": "29395d1d-9bab-43e8-944c-db45b06dd41a",
   "metadata": {},
   "outputs": [
    {
     "name": "stdout",
     "output_type": "stream",
     "text": [
      "                  date      price  diff_between_now  change\n",
      "0   14/03/21 Sun 08:00  252495.99            -39.42     NaN\n",
      "1   15/03/21 Mon 08:00  244728.49            -37.50   -3.08\n",
      "2   16/03/21 Tue 08:00  229499.42            -33.35   -6.22\n",
      "3   17/03/21 Wed 08:00  233799.66            -34.57    1.87\n",
      "4   18/03/21 Thu 08:00  243230.02            -37.11    4.03\n",
      "..                 ...        ...               ...     ...\n",
      "86  08/06/21 Tue 08:00  138087.31             10.78   -6.65\n",
      "87  09/06/21 Wed 08:00  138255.46             10.64    0.12\n",
      "88  10/06/21 Thu 08:00  154627.13             -1.07   11.84\n",
      "89  11/06/21 Fri 08:00  152060.07              0.60   -1.66\n",
      "90  11/06/21 Fri 16:22  152967.23              0.00    0.60\n",
      "\n",
      "[91 rows x 4 columns]\n"
     ]
    }
   ],
   "source": [
    "def convert_unix(time): #For fuck sake this is annoying To convert time \n",
    "    #return datetime.datetime.fromtimestamp(int(str(time)[:10])).strftime('%Y-%m-%d %H:%M:%S')\n",
    "    return datetime.datetime.fromtimestamp(int(str(time)[:10])).strftime('%d/%m/%y %a %H:%M')\n",
    "    #return datetime.datetime.fromtimestamp(int(str(time)[:10])).strftime('%Y-%m-%d')\n",
    "\n",
    "def convert_data_frame(dict_data):\n",
    "    df =pd.DataFrame(dict_data[\"prices\"])\n",
    "    df.columns = ['posix', 'price']\n",
    "    #df.date=df.apply(lambda row : add(row['A'],row['B'], row['C']), axis = 1)vconvert_unix(time)\n",
    "    df[\"date\"]=df.apply(lambda row : convert_unix(row['posix']), axis = 1)\n",
    "    price_now=df['price'].values[len(df.price)-1]\n",
    "    df[\"diff_between_now\"]=(price_now/df['price']-1)*100\n",
    "    df[\"change\"]= df.price.pct_change() * 100\n",
    "    \n",
    "    return df[[\"date\",\"price\",\"diff_between_now\",\"change\"]].round(2)\n",
    "print(convert_data_frame(coin_market['bitcoin']))\n",
    "\n",
    "\n",
    "def telegram_bot_sendtext(bot_message):\n",
    "    bot_token = config[\"telegram_RedNavi_bot\"]['bot_token']\n",
    "    #bot_chatID = '269721616'562593592\n",
    "    bot_chatID = config[\"telegram_RedNavi_bot\"]['bot_chatID']\n",
    "    send_text = 'https://api.telegram.org/bot' + bot_token + '/sendMessage?chat_id=' + bot_chatID + '&parse_mode=Markdown&text=' + bot_message\n",
    "    response = requests.get(send_text)\n",
    "    return response.json()"
   ]
  },
  {
   "cell_type": "code",
   "execution_count": 119,
   "id": "ddf50758-a5d1-4716-bac2-967b2508f1fe",
   "metadata": {},
   "outputs": [
    {
     "name": "stdout",
     "output_type": "stream",
     "text": [
      "Current coin price in MYR is :\n",
      "bitcoin: MYR 151391\n",
      "ethereum: MYR 10153.63\n",
      "ripple: MYR 3.57\n",
      "litecoin: MYR 702.75\n",
      "bitcoin-cash: MYR 2460.65\n",
      "\n"
     ]
    }
   ],
   "source": [
    "coin_market_hourly=dict()\n",
    "current_price=cg.get_price(ids=coins, vs_currencies=currency)\n",
    "message=\"Current coin price in MYR is :\\n\"\n",
    "for i in current_price:\n",
    "    message = message+(i+\": MYR \"+str(current_price[i]['myr'])+\"\\n\")\n",
    "print(message)\n",
    "test = telegram_bot_sendtext(message)"
   ]
  },
  {
   "cell_type": "code",
   "execution_count": 48,
   "id": "2696f6e9-c2db-44e7-90ef-ca2daeaee702",
   "metadata": {},
   "outputs": [
    {
     "ename": "KeyError",
     "evalue": "'chat_id'",
     "output_type": "error",
     "traceback": [
      "\u001b[1;31m---------------------------------------------------------------------------\u001b[0m",
      "\u001b[1;31mKeyError\u001b[0m                                  Traceback (most recent call last)",
      "\u001b[1;32m<ipython-input-48-09a535aafa84>\u001b[0m in \u001b[0;36m<module>\u001b[1;34m\u001b[0m\n\u001b[1;32m----> 1\u001b[1;33m \u001b[0mtest\u001b[0m \u001b[1;33m=\u001b[0m \u001b[0mtelegram_bot_sendtext\u001b[0m\u001b[1;33m(\u001b[0m\u001b[1;34m\"Testing Telegram bot\"\u001b[0m\u001b[1;33m)\u001b[0m\u001b[1;33m\u001b[0m\u001b[1;33m\u001b[0m\u001b[0m\n\u001b[0m\u001b[0;32m      2\u001b[0m \u001b[0mprint\u001b[0m\u001b[1;33m(\u001b[0m\u001b[0mtest\u001b[0m\u001b[1;33m)\u001b[0m\u001b[1;33m\u001b[0m\u001b[1;33m\u001b[0m\u001b[0m\n",
      "\u001b[1;32m<ipython-input-47-d1daa66e7d61>\u001b[0m in \u001b[0;36mtelegram_bot_sendtext\u001b[1;34m(bot_message)\u001b[0m\n\u001b[0;32m     14\u001b[0m     \u001b[0mbot_token\u001b[0m \u001b[1;33m=\u001b[0m \u001b[0mconfig\u001b[0m\u001b[1;33m[\u001b[0m\u001b[1;34m\"telegram_RedNavi_bot\"\u001b[0m\u001b[1;33m]\u001b[0m\u001b[1;33m[\u001b[0m\u001b[1;34m'bot_token'\u001b[0m\u001b[1;33m]\u001b[0m\u001b[1;33m\u001b[0m\u001b[1;33m\u001b[0m\u001b[0m\n\u001b[0;32m     15\u001b[0m     \u001b[1;31m#bot_chatID = '269721616'562593592\u001b[0m\u001b[1;33m\u001b[0m\u001b[1;33m\u001b[0m\u001b[1;33m\u001b[0m\u001b[0m\n\u001b[1;32m---> 16\u001b[1;33m     \u001b[0mbot_chatID\u001b[0m \u001b[1;33m=\u001b[0m \u001b[0mconfig\u001b[0m\u001b[1;33m[\u001b[0m\u001b[1;34m\"telegram_RedNavi_bot\"\u001b[0m\u001b[1;33m]\u001b[0m\u001b[1;33m[\u001b[0m\u001b[1;34m'chat_id'\u001b[0m\u001b[1;33m]\u001b[0m\u001b[1;33m\u001b[0m\u001b[1;33m\u001b[0m\u001b[0m\n\u001b[0m\u001b[0;32m     17\u001b[0m     \u001b[0msend_text\u001b[0m \u001b[1;33m=\u001b[0m \u001b[1;34m'https://api.telegram.org/bot'\u001b[0m \u001b[1;33m+\u001b[0m \u001b[0mbot_token\u001b[0m \u001b[1;33m+\u001b[0m \u001b[1;34m'/sendMessage?chat_id='\u001b[0m \u001b[1;33m+\u001b[0m \u001b[0mbot_chatID\u001b[0m \u001b[1;33m+\u001b[0m \u001b[1;34m'&parse_mode=Markdown&text='\u001b[0m \u001b[1;33m+\u001b[0m \u001b[0mbot_message\u001b[0m\u001b[1;33m\u001b[0m\u001b[1;33m\u001b[0m\u001b[0m\n\u001b[0;32m     18\u001b[0m     \u001b[0mresponse\u001b[0m \u001b[1;33m=\u001b[0m \u001b[0mrequests\u001b[0m\u001b[1;33m.\u001b[0m\u001b[0mget\u001b[0m\u001b[1;33m(\u001b[0m\u001b[0msend_text\u001b[0m\u001b[1;33m)\u001b[0m\u001b[1;33m\u001b[0m\u001b[1;33m\u001b[0m\u001b[0m\n",
      "\u001b[1;32mc:\\users\\tm30231\\appdata\\local\\programs\\python\\python39\\lib\\configparser.py\u001b[0m in \u001b[0;36m__getitem__\u001b[1;34m(self, key)\u001b[0m\n\u001b[0;32m   1252\u001b[0m     \u001b[1;32mdef\u001b[0m \u001b[0m__getitem__\u001b[0m\u001b[1;33m(\u001b[0m\u001b[0mself\u001b[0m\u001b[1;33m,\u001b[0m \u001b[0mkey\u001b[0m\u001b[1;33m)\u001b[0m\u001b[1;33m:\u001b[0m\u001b[1;33m\u001b[0m\u001b[1;33m\u001b[0m\u001b[0m\n\u001b[0;32m   1253\u001b[0m         \u001b[1;32mif\u001b[0m \u001b[1;32mnot\u001b[0m \u001b[0mself\u001b[0m\u001b[1;33m.\u001b[0m\u001b[0m_parser\u001b[0m\u001b[1;33m.\u001b[0m\u001b[0mhas_option\u001b[0m\u001b[1;33m(\u001b[0m\u001b[0mself\u001b[0m\u001b[1;33m.\u001b[0m\u001b[0m_name\u001b[0m\u001b[1;33m,\u001b[0m \u001b[0mkey\u001b[0m\u001b[1;33m)\u001b[0m\u001b[1;33m:\u001b[0m\u001b[1;33m\u001b[0m\u001b[1;33m\u001b[0m\u001b[0m\n\u001b[1;32m-> 1254\u001b[1;33m             \u001b[1;32mraise\u001b[0m \u001b[0mKeyError\u001b[0m\u001b[1;33m(\u001b[0m\u001b[0mkey\u001b[0m\u001b[1;33m)\u001b[0m\u001b[1;33m\u001b[0m\u001b[1;33m\u001b[0m\u001b[0m\n\u001b[0m\u001b[0;32m   1255\u001b[0m         \u001b[1;32mreturn\u001b[0m \u001b[0mself\u001b[0m\u001b[1;33m.\u001b[0m\u001b[0m_parser\u001b[0m\u001b[1;33m.\u001b[0m\u001b[0mget\u001b[0m\u001b[1;33m(\u001b[0m\u001b[0mself\u001b[0m\u001b[1;33m.\u001b[0m\u001b[0m_name\u001b[0m\u001b[1;33m,\u001b[0m \u001b[0mkey\u001b[0m\u001b[1;33m)\u001b[0m\u001b[1;33m\u001b[0m\u001b[1;33m\u001b[0m\u001b[0m\n\u001b[0;32m   1256\u001b[0m \u001b[1;33m\u001b[0m\u001b[0m\n",
      "\u001b[1;31mKeyError\u001b[0m: 'chat_id'"
     ]
    }
   ],
   "source": [
    "test = telegram_bot_sendtext(\"Testing Telegram bot\")\n",
    "print(test)\n"
   ]
  },
  {
   "cell_type": "code",
   "execution_count": 48,
   "id": "fa5df532-7f41-4367-9e23-8c7ee1d0c5fd",
   "metadata": {},
   "outputs": [
    {
     "name": "stdout",
     "output_type": "stream",
     "text": [
      "date|price|diff_between_now\n",
      "21-06-11 08:23|152620.06084973205|-0.7685842137980181\n",
      "21-06-11 09:17|149745.64957094996|1.1361916615787893\n",
      "21-06-11 10:07|149717.64615999567|1.1551083251123861\n",
      "21-06-11 11:09|150061.27526873798|0.9234706847135454\n",
      "21-06-11 11:31|151447.04715495207|0.0\n",
      "\n"
     ]
    }
   ],
   "source": [
    "convert_data_frame(coin_market_hourly['bitcoin']).tail()\n",
    "print(str (convert_data_frame(coin_market_hourly['bitcoin']).tail()[[\"date\",\"price\",\"diff_between_now\"]].to_csv(index=False,sep='|')))\n",
    "#test = telegram_bot_sendtext((str (convert_data_frame(coin_market_hourly['bitcoin'][[da]]).tail().to_csv(index=False,sep='|'))))"
   ]
  },
  {
   "cell_type": "code",
   "execution_count": 36,
   "id": "1f95c07e-5dc1-4ef4-9a4c-c3ee05a27546",
   "metadata": {},
   "outputs": [],
   "source": [
    "test_string=\"\"\"<pre language=\"c++\">code</pre>,\"\"\"\n",
    "test = telegram_bot_sendtext(test_string)"
   ]
  },
  {
   "cell_type": "code",
   "execution_count": 120,
   "id": "338219e6-3e27-4f4e-b613-5188dc47e6fe",
   "metadata": {},
   "outputs": [
    {
     "ename": "KeyError",
     "evalue": "'bitcoin'",
     "output_type": "error",
     "traceback": [
      "\u001b[1;31m---------------------------------------------------------------------------\u001b[0m",
      "\u001b[1;31mKeyError\u001b[0m                                  Traceback (most recent call last)",
      "\u001b[1;32m<ipython-input-120-7dda7f224b62>\u001b[0m in \u001b[0;36m<module>\u001b[1;34m\u001b[0m\n\u001b[0;32m      1\u001b[0m \u001b[1;32mfrom\u001b[0m \u001b[0mtabulate\u001b[0m \u001b[1;32mimport\u001b[0m \u001b[0mtabulate\u001b[0m\u001b[1;33m\u001b[0m\u001b[1;33m\u001b[0m\u001b[0m\n\u001b[1;32m----> 2\u001b[1;33m \u001b[0mdf\u001b[0m\u001b[1;33m=\u001b[0m\u001b[0mconvert_data_frame\u001b[0m\u001b[1;33m(\u001b[0m\u001b[0mcoin_market_hourly\u001b[0m\u001b[1;33m[\u001b[0m\u001b[1;34m'bitcoin'\u001b[0m\u001b[1;33m]\u001b[0m\u001b[1;33m)\u001b[0m\u001b[1;33m.\u001b[0m\u001b[0mtail\u001b[0m\u001b[1;33m(\u001b[0m\u001b[1;33m)\u001b[0m\u001b[1;33m[\u001b[0m\u001b[1;33m[\u001b[0m\u001b[1;34m\"date\"\u001b[0m\u001b[1;33m,\u001b[0m\u001b[1;34m\"price\"\u001b[0m\u001b[1;33m,\u001b[0m\u001b[1;34m\"diff_between_now\"\u001b[0m\u001b[1;33m,\u001b[0m\u001b[1;34m\"diff_previous_day\"\u001b[0m\u001b[1;33m]\u001b[0m\u001b[1;33m]\u001b[0m\u001b[1;33m\u001b[0m\u001b[1;33m\u001b[0m\u001b[0m\n\u001b[0m\u001b[0;32m      3\u001b[0m \u001b[1;31m#print(tabulate(df, headers='keys', tablefmt='psql'))\u001b[0m\u001b[1;33m\u001b[0m\u001b[1;33m\u001b[0m\u001b[1;33m\u001b[0m\u001b[0m\n\u001b[0;32m      4\u001b[0m \u001b[1;31m#print(tabulate(df, headers='keys', tablefmt='fancy_grid'))\u001b[0m\u001b[1;33m\u001b[0m\u001b[1;33m\u001b[0m\u001b[1;33m\u001b[0m\u001b[0m\n\u001b[0;32m      5\u001b[0m \u001b[0mprint\u001b[0m\u001b[1;33m(\u001b[0m\u001b[0mtabulate\u001b[0m\u001b[1;33m(\u001b[0m\u001b[0mdf\u001b[0m\u001b[1;33m.\u001b[0m\u001b[0mvalues\u001b[0m\u001b[1;33m.\u001b[0m\u001b[0mtolist\u001b[0m\u001b[1;33m(\u001b[0m\u001b[1;33m)\u001b[0m\u001b[1;33m,\u001b[0m \u001b[0mheaders\u001b[0m\u001b[1;33m=\u001b[0m\u001b[1;33m[\u001b[0m\u001b[1;34m'date'\u001b[0m\u001b[1;33m,\u001b[0m\u001b[1;34m\"price\"\u001b[0m\u001b[1;33m,\u001b[0m\u001b[1;34m\"Diff_between\"\u001b[0m\u001b[1;33m,\u001b[0m\u001b[1;34m\"Diff_prev\"\u001b[0m\u001b[1;33m]\u001b[0m\u001b[1;33m,\u001b[0m \u001b[0mtablefmt\u001b[0m\u001b[1;33m=\u001b[0m\u001b[1;34m'psql'\u001b[0m\u001b[1;33m)\u001b[0m\u001b[1;33m)\u001b[0m\u001b[1;33m\u001b[0m\u001b[1;33m\u001b[0m\u001b[0m\n",
      "\u001b[1;31mKeyError\u001b[0m: 'bitcoin'"
     ]
    }
   ],
   "source": [
    "from tabulate import tabulate\n",
    "df=convert_data_frame(coin_market_hourly['bitcoin']).tail()[[\"date\",\"price\",\"diff_between_now\",\"diff_previous_day\"]]\n",
    "#print(tabulate(df, headers='keys', tablefmt='psql'))\n",
    "#print(tabulate(df, headers='keys', tablefmt='fancy_grid'))\n",
    "print(tabulate(df.values.tolist(), headers=['date',\"price\",\"Diff_between\",\"Diff_prev\"], tablefmt='psql'))\n",
    "print(df.values.tolist())\n",
    "telegram_bot_sendtext(tabulate(df.values.tolist(), headers=['date',\"price\",\"Diff_between\",\"Diff_prev\"], tablefmt='psql'))\n",
    "\n",
    "#telegram_bot_sendtext(\"\"\"<code>inline fixed-width code</code>\"\"\")"
   ]
  },
  {
   "cell_type": "code",
   "execution_count": 17,
   "id": "f706586d-3fb6-4e0a-84d0-ddf7a27ab83f",
   "metadata": {},
   "outputs": [
    {
     "data": {
      "text/html": [
       "<div>\n",
       "<style scoped>\n",
       "    .dataframe tbody tr th:only-of-type {\n",
       "        vertical-align: middle;\n",
       "    }\n",
       "\n",
       "    .dataframe tbody tr th {\n",
       "        vertical-align: top;\n",
       "    }\n",
       "\n",
       "    .dataframe thead th {\n",
       "        text-align: right;\n",
       "    }\n",
       "</style>\n",
       "<table border=\"1\" class=\"dataframe\">\n",
       "  <thead>\n",
       "    <tr style=\"text-align: right;\">\n",
       "      <th></th>\n",
       "      <th>date</th>\n",
       "      <th>change</th>\n",
       "    </tr>\n",
       "  </thead>\n",
       "  <tbody>\n",
       "    <tr>\n",
       "      <th>2158</th>\n",
       "      <td>11/06/21 Fri 13:11</td>\n",
       "      <td>1.59</td>\n",
       "    </tr>\n",
       "    <tr>\n",
       "      <th>2159</th>\n",
       "      <td>11/06/21 Fri 14:16</td>\n",
       "      <td>-1.32</td>\n",
       "    </tr>\n",
       "    <tr>\n",
       "      <th>2160</th>\n",
       "      <td>11/06/21 Fri 15:07</td>\n",
       "      <td>-0.52</td>\n",
       "    </tr>\n",
       "    <tr>\n",
       "      <th>2161</th>\n",
       "      <td>11/06/21 Fri 16:02</td>\n",
       "      <td>1.28</td>\n",
       "    </tr>\n",
       "    <tr>\n",
       "      <th>2162</th>\n",
       "      <td>11/06/21 Fri 16:29</td>\n",
       "      <td>0.07</td>\n",
       "    </tr>\n",
       "  </tbody>\n",
       "</table>\n",
       "</div>"
      ],
      "text/plain": [
       "                    date  change\n",
       "2158  11/06/21 Fri 13:11    1.59\n",
       "2159  11/06/21 Fri 14:16   -1.32\n",
       "2160  11/06/21 Fri 15:07   -0.52\n",
       "2161  11/06/21 Fri 16:02    1.28\n",
       "2162  11/06/21 Fri 16:29    0.07"
      ]
     },
     "execution_count": 17,
     "metadata": {},
     "output_type": "execute_result"
    }
   ],
   "source": [
    "convert_data_frame(coin_market_hourly['bitcoin'])\n",
    "df_hourly=convert_data_frame(coin_market_hourly['bitcoin'])[[\"date\",\"change\"]]\n",
    "df_hourly.tail(5)"
   ]
  }
 ],
 "metadata": {
  "kernelspec": {
   "display_name": "Python 3",
   "language": "python",
   "name": "python3"
  },
  "language_info": {
   "codemirror_mode": {
    "name": "ipython",
    "version": 3
   },
   "file_extension": ".py",
   "mimetype": "text/x-python",
   "name": "python",
   "nbconvert_exporter": "python",
   "pygments_lexer": "ipython3",
   "version": "3.9.5"
  }
 },
 "nbformat": 4,
 "nbformat_minor": 5
}
