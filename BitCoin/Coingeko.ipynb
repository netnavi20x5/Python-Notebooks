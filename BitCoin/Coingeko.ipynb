{
 "cells": [
  {
   "cell_type": "code",
   "execution_count": 4,
   "id": "fa314abe-b51d-4a55-93dd-b7ccd9effdb3",
   "metadata": {},
   "outputs": [
    {
     "name": "stdout",
     "output_type": "stream",
     "text": [
      "Requirement already satisfied: pycoingecko in c:\\users\\tm30231\\documents\\github\\git-env\\lib\\site-packages (2.1.0)\n",
      "Requirement already satisfied: requests in c:\\users\\tm30231\\documents\\github\\git-env\\lib\\site-packages (from pycoingecko) (2.25.1)\n",
      "Requirement already satisfied: certifi>=2017.4.17 in c:\\users\\tm30231\\documents\\github\\git-env\\lib\\site-packages (from requests->pycoingecko) (2021.5.30)\n",
      "Requirement already satisfied: idna<3,>=2.5 in c:\\users\\tm30231\\documents\\github\\git-env\\lib\\site-packages (from requests->pycoingecko) (2.10)\n",
      "Requirement already satisfied: urllib3<1.27,>=1.21.1 in c:\\users\\tm30231\\documents\\github\\git-env\\lib\\site-packages (from requests->pycoingecko) (1.26.5)\n",
      "Requirement already satisfied: chardet<5,>=3.0.2 in c:\\users\\tm30231\\documents\\github\\git-env\\lib\\site-packages (from requests->pycoingecko) (4.0.0)\n",
      "Requirement already satisfied: configparser in c:\\users\\tm30231\\documents\\github\\git-env\\lib\\site-packages (5.0.2)\n",
      "Requirement already satisfied: tabulate in c:\\users\\tm30231\\documents\\github\\git-env\\lib\\site-packages (0.8.9)\n"
     ]
    }
   ],
   "source": [
    "!pip install pycoingecko\n",
    "!pip install configparser\n",
    "!pip install tabulate"
   ]
  },
  {
   "cell_type": "markdown",
   "id": "0d85dd53-f23d-47a9-ba25-b3f74176632d",
   "metadata": {},
   "source": [
    "## Source : https://github.com/man-c/pycoingecko\n",
    "\n",
    "CoinGecko API wrapper\n",
    "PyPi Version GitHub"
   ]
  },
  {
   "cell_type": "code",
   "execution_count": 24,
   "id": "a5eb837a-0475-4caf-b893-438b75d357a6",
   "metadata": {},
   "outputs": [],
   "source": [
    "import time \n",
    "import datetime\n",
    "import pandas as pd\n",
    "import requests\n",
    "import configparser\n",
    "from pycoingecko import CoinGeckoAPI\n",
    "import json\n",
    "\n",
    "cg = CoinGeckoAPI()"
   ]
  },
  {
   "cell_type": "code",
   "execution_count": 6,
   "id": "b0200385-2972-43db-965b-f4f2579e1f37",
   "metadata": {},
   "outputs": [
    {
     "data": {
      "text/plain": [
       "'247419374:AAGMXRpFeh26gzp4vF-I7VK2M4EEpNONCmU'"
      ]
     },
     "execution_count": 6,
     "metadata": {},
     "output_type": "execute_result"
    }
   ],
   "source": [
    "config = configparser.ConfigParser()\n",
    "config.read('..\\..\\config.conf')\n",
    "config.sections()\n",
    "config[\"telegram_RedNavi_bot\"]['bot_token']"
   ]
  },
  {
   "cell_type": "code",
   "execution_count": 8,
   "id": "e1c5000b-9f1e-40ae-90d7-109fcc79119d",
   "metadata": {},
   "outputs": [
    {
     "name": "stdout",
     "output_type": "stream",
     "text": [
      "bitcoin\n",
      "bitcoin-cash\n",
      "ethereum\n",
      "litecoin\n",
      "ripple\n"
     ]
    }
   ],
   "source": [
    "coins =['bitcoin', 'bitcoin-cash', 'ethereum', 'litecoin', 'ripple']\n",
    "currency=\"MYR\"\n",
    "coin_market=dict()\n",
    "coin_market_hourly=dict()\n",
    "for coin in coins:\n",
    "    print (coin)\n",
    "    coin_market[coin]=(cg.get_coin_market_chart_by_id(id=coin,vs_currency=\"MYR\",days=\"90\",interval=\"daily\"))\n",
    "    coin_market_hourly[coin]=(cg.get_coin_market_chart_by_id(id=coin,vs_currency=\"MYR\",days=\"90\",interval=\"hourly\"))"
   ]
  },
  {
   "cell_type": "code",
   "execution_count": 44,
   "id": "eeca27d3-1058-4114-a282-2c20533b80d5",
   "metadata": {},
   "outputs": [],
   "source": []
  },
  {
   "cell_type": "code",
   "execution_count": 9,
   "id": "29395d1d-9bab-43e8-944c-db45b06dd41a",
   "metadata": {},
   "outputs": [
    {
     "name": "stdout",
     "output_type": "stream",
     "text": [
      "                  date      price  diff_between_now  change\n",
      "0   16/03/21 Tue 08:00  229499.42            -37.02     NaN\n",
      "1   17/03/21 Wed 08:00  233799.66            -38.18    1.87\n",
      "2   18/03/21 Thu 08:00  243230.02            -40.57    4.03\n",
      "3   19/03/21 Fri 08:00  238147.99            -39.31   -2.09\n",
      "4   20/03/21 Sat 08:00  239234.23            -39.58    0.46\n",
      "..                 ...        ...               ...     ...\n",
      "86  10/06/21 Thu 08:00  154627.13             -6.52   11.84\n",
      "87  11/06/21 Fri 08:00  152060.07             -4.95   -1.66\n",
      "88  12/06/21 Sat 08:00  153184.99             -5.64    0.74\n",
      "89  13/06/21 Sun 08:00  146516.54             -1.35   -4.35\n",
      "90  13/06/21 Sun 14:42  144540.41              0.00   -1.35\n",
      "\n",
      "[91 rows x 4 columns]\n"
     ]
    }
   ],
   "source": [
    "def convert_unix(time): #For fuck sake this is annoying To convert time \n",
    "    #return datetime.datetime.fromtimestamp(int(str(time)[:10])).strftime('%Y-%m-%d %H:%M:%S')\n",
    "    return datetime.datetime.fromtimestamp(int(str(time)[:10])).strftime('%d/%m/%y %a %H:%M')\n",
    "    #return datetime.datetime.fromtimestamp(int(str(time)[:10])).strftime('%Y-%m-%d')\n",
    "\n",
    "def convert_data_frame(dict_data):\n",
    "    df =pd.DataFrame(dict_data[\"prices\"])\n",
    "    df.columns = ['posix', 'price']\n",
    "    #df.date=df.apply(lambda row : add(row['A'],row['B'], row['C']), axis = 1)vconvert_unix(time)\n",
    "    df[\"date\"]=df.apply(lambda row : convert_unix(row['posix']), axis = 1)\n",
    "    price_now=df['price'].values[len(df.price)-1]\n",
    "    df[\"diff_between_now\"]=(price_now/df['price']-1)*100\n",
    "    df[\"change\"]= df.price.pct_change() * 100\n",
    "    \n",
    "    return df[[\"date\",\"price\",\"diff_between_now\",\"change\"]].round(2)\n",
    "print(convert_data_frame(coin_market['bitcoin']))\n",
    "\n",
    "\n",
    "def telegram_bot_sendtext(bot_message):\n",
    "    bot_token = config[\"telegram_RedNavi_bot\"]['bot_token']\n",
    "    #bot_chatID = '269721616'562593592\n",
    "    bot_chatID = config[\"telegram_RedNavi_bot\"]['bot_chatID']\n",
    "    send_text = 'https://api.telegram.org/bot' + bot_token + '/sendMessage?chat_id=' + bot_chatID + '&parse_mode=Markdown&text=' + bot_message\n",
    "    response = requests.get(send_text)\n",
    "    return response.json()"
   ]
  },
  {
   "cell_type": "code",
   "execution_count": 259,
   "id": "ddf50758-a5d1-4716-bac2-967b2508f1fe",
   "metadata": {},
   "outputs": [],
   "source": [
    "import json\n",
    "from tabulate import tabulate\n",
    "coin_market_hourly=dict()\n",
    "\n",
    "try:\n",
    "    input_file=open(\"previous_price.json\",\"r\")\n",
    "    previous=input_file.read()\n",
    "    previous_price=json.loads(previous.replace(\"'\",'\"'))\n",
    "except IOError:\n",
    "    initialize=\"\"\"{\"bitcoin\": {\"myr\": 0}, \"litecoin\": {\"myr\": 0}, \"ethereum\": {\"myr\": 0}, \"ripple\": {\"myr\": 0}, \"bitcoin-cash\": {\"myr\": 0}}\"\"\"\n",
    "    previous_price=json.loads(initialize.replace(\"'\",'\"'))    \n",
    "finally:\n",
    "    input_file.close()\n",
    "\n",
    "input_file=open(\"previous_price.json\",\"r\")\n",
    "previous=input_file.read()\n",
    "previous_price=json.loads(previous.replace(\"'\",'\"'))\n",
    "current_price=cg.get_price(ids=coins, vs_currencies=currency)\n",
    "#print(current_price)\n",
    "with open(\"previous_price.json\", \"w\") as outfile:\n",
    "    outfile.write(str(current_price).replace(\"'\",'\"'))\n",
    "#print(previous_price)\n",
    "#print(current_price)\n",
    "df_prev=pd.DataFrame(previous_price)\n",
    "df_curr=pd.DataFrame(current_price)\n",
    "df_new=(df_curr/df_prev-1)*100\n",
    "df_new_t=df_new.T\n",
    "df_new_t=df_new_t.round(3)\n",
    "df_new_t=df_new_t.reset_index()\n",
    "df_new_t[\"change\"]=df_new_t[\"myr\"]\n",
    "df_new_t.loc[df_new_t.myr > 0, 'change'] = \"🟢\"\n",
    "df_new_t.loc[df_new_t.myr < 0, 'change'] = \"🔴\"\n",
    "df_new_t.loc[df_new_t.myr == 0, 'change'] = \"🟡\"\n",
    "#test = telegram_bot_sendtext(message)\n",
    "#print(tabulate(df_new_t.values.tolist(),headers=[\"Coin\",\"Change\",\"Status\"], tablefmt='psql'))\n",
    "message = tabulate(df_new_t.values.tolist(), tablefmt='simple')\n",
    "test = telegram_bot_sendtext(message)"
   ]
  },
  {
   "cell_type": "code",
   "execution_count": 253,
   "id": "2696f6e9-c2db-44e7-90ef-ca2daeaee702",
   "metadata": {},
   "outputs": [
    {
     "name": "stdout",
     "output_type": "stream",
     "text": [
      "{'ok': True, 'result': {'message_id': 2353, 'from': {'id': 247419374, 'is_bot': True, 'first_name': 'Personal_help', 'username': 'RedNavi_bot'}, 'chat': {'id': -562593592, 'title': 'Bot Famliy', 'type': 'group', 'all_members_are_administrators': True}, 'date': 1623576136, 'text': 'Testing Telegram bot'}}\n"
     ]
    }
   ],
   "source": [
    "test = telegram_bot_sendtext(\"Testing Telegram bot\")\n",
    "print(test)\n"
   ]
  },
  {
   "cell_type": "code",
   "execution_count": 48,
   "id": "fa5df532-7f41-4367-9e23-8c7ee1d0c5fd",
   "metadata": {},
   "outputs": [
    {
     "name": "stdout",
     "output_type": "stream",
     "text": [
      "date|price|diff_between_now\n",
      "21-06-11 08:23|152620.06084973205|-0.7685842137980181\n",
      "21-06-11 09:17|149745.64957094996|1.1361916615787893\n",
      "21-06-11 10:07|149717.64615999567|1.1551083251123861\n",
      "21-06-11 11:09|150061.27526873798|0.9234706847135454\n",
      "21-06-11 11:31|151447.04715495207|0.0\n",
      "\n"
     ]
    }
   ],
   "source": [
    "convert_data_frame(coin_market_hourly['bitcoin']).tail()\n",
    "print(str (convert_data_frame(coin_market_hourly['bitcoin']).tail()[[\"date\",\"price\",\"diff_between_now\"]].to_csv(index=False,sep='|')))\n",
    "#test = telegram_bot_sendtext((str (convert_data_frame(coin_market_hourly['bitcoin'][[da]]).tail().to_csv(index=False,sep='|'))))"
   ]
  },
  {
   "cell_type": "code",
   "execution_count": 36,
   "id": "1f95c07e-5dc1-4ef4-9a4c-c3ee05a27546",
   "metadata": {},
   "outputs": [],
   "source": [
    "test_string=\"\"\"<pre language=\"c++\">code</pre>,\"\"\"\n",
    "test = telegram_bot_sendtext(test_string)"
   ]
  },
  {
   "cell_type": "code",
   "execution_count": 240,
   "id": "338219e6-3e27-4f4e-b613-5188dc47e6fe",
   "metadata": {},
   "outputs": [
    {
     "ename": "KeyError",
     "evalue": "'bitcoin'",
     "output_type": "error",
     "traceback": [
      "\u001b[1;31m---------------------------------------------------------------------------\u001b[0m",
      "\u001b[1;31mKeyError\u001b[0m                                  Traceback (most recent call last)",
      "\u001b[1;32m<ipython-input-240-89ab4908b9b0>\u001b[0m in \u001b[0;36m<module>\u001b[1;34m\u001b[0m\n\u001b[0;32m      1\u001b[0m \u001b[1;32mfrom\u001b[0m \u001b[0mtabulate\u001b[0m \u001b[1;32mimport\u001b[0m \u001b[0mtabulate\u001b[0m\u001b[1;33m\u001b[0m\u001b[1;33m\u001b[0m\u001b[0m\n\u001b[1;32m----> 2\u001b[1;33m \u001b[0mdf\u001b[0m\u001b[1;33m=\u001b[0m\u001b[0mconvert_data_frame\u001b[0m\u001b[1;33m(\u001b[0m\u001b[0mcoin_market_hourly\u001b[0m\u001b[1;33m[\u001b[0m\u001b[1;34m'bitcoin'\u001b[0m\u001b[1;33m]\u001b[0m\u001b[1;33m)\u001b[0m\u001b[1;33m.\u001b[0m\u001b[0mtail\u001b[0m\u001b[1;33m(\u001b[0m\u001b[1;33m)\u001b[0m\u001b[1;33m[\u001b[0m\u001b[1;33m[\u001b[0m\u001b[1;34m\"date\"\u001b[0m\u001b[1;33m,\u001b[0m\u001b[1;34m\"price\"\u001b[0m\u001b[1;33m,\u001b[0m\u001b[1;34m\"diff_between_now\"\u001b[0m\u001b[1;33m,\u001b[0m\u001b[1;34m\"diff_previous_day\"\u001b[0m\u001b[1;33m]\u001b[0m\u001b[1;33m]\u001b[0m\u001b[1;33m\u001b[0m\u001b[1;33m\u001b[0m\u001b[0m\n\u001b[0m\u001b[0;32m      3\u001b[0m \u001b[1;31m#print(tabulate(df, headers='keys', tablefmt='psql'))\u001b[0m\u001b[1;33m\u001b[0m\u001b[1;33m\u001b[0m\u001b[1;33m\u001b[0m\u001b[0m\n\u001b[0;32m      4\u001b[0m \u001b[1;31m#print(tabulate(df, headers='keys', tablefmt='fancy_grid'))\u001b[0m\u001b[1;33m\u001b[0m\u001b[1;33m\u001b[0m\u001b[1;33m\u001b[0m\u001b[0m\n\u001b[0;32m      5\u001b[0m \u001b[0mprint\u001b[0m\u001b[1;33m(\u001b[0m\u001b[0mtabulate\u001b[0m\u001b[1;33m(\u001b[0m\u001b[0mdf\u001b[0m\u001b[1;33m.\u001b[0m\u001b[0mvalues\u001b[0m\u001b[1;33m.\u001b[0m\u001b[0mtolist\u001b[0m\u001b[1;33m(\u001b[0m\u001b[1;33m)\u001b[0m\u001b[1;33m,\u001b[0m \u001b[0mheaders\u001b[0m\u001b[1;33m=\u001b[0m\u001b[1;33m[\u001b[0m\u001b[1;34m'date'\u001b[0m\u001b[1;33m,\u001b[0m\u001b[1;34m\"price\"\u001b[0m\u001b[1;33m,\u001b[0m\u001b[1;34m\"Diff_between\"\u001b[0m\u001b[1;33m,\u001b[0m\u001b[1;34m\"Diff_prev\"\u001b[0m\u001b[1;33m]\u001b[0m\u001b[1;33m,\u001b[0m \u001b[0mtablefmt\u001b[0m\u001b[1;33m=\u001b[0m\u001b[1;34m'psql'\u001b[0m\u001b[1;33m)\u001b[0m\u001b[1;33m)\u001b[0m\u001b[1;33m\u001b[0m\u001b[1;33m\u001b[0m\u001b[0m\n",
      "\u001b[1;31mKeyError\u001b[0m: 'bitcoin'"
     ]
    }
   ],
   "source": [
    "from tabulate import tabulate\n",
    "df=convert_data_frame(coin_market_hourly['bitcoin']).tail()[[\"date\",\"price\",\"diff_between_now\",\"diff_previous_day\"]]\n",
    "#print(tabulate(df, headers='keys', tablefmt='psql'))\n",
    "#print(tabulate(df, headers='keys', tablefmt='fancy_grid'))\n",
    "print(tabulate(df.values.tolist(), headers=['date',\"price\",\"Diff_between\",\"Diff_prev\"], tablefmt='psql'))\n",
    "print(df.values.tolist())\n",
    "telegram_bot_sendtext(tabulate(df.values.tolist(), headers=['date',\"price\",\"Diff_between\",\"Diff_prev\"], tablefmt='psql'))\n",
    "\n",
    "#telegram_bot_sendtext(\"\"\"<code>inline fixed-width code</code>\"\"\")"
   ]
  },
  {
   "cell_type": "code",
   "execution_count": 1,
   "id": "f706586d-3fb6-4e0a-84d0-ddf7a27ab83f",
   "metadata": {},
   "outputs": [
    {
     "ename": "NameError",
     "evalue": "name 'convert_data_frame' is not defined",
     "output_type": "error",
     "traceback": [
      "\u001b[1;31m---------------------------------------------------------------------------\u001b[0m",
      "\u001b[1;31mNameError\u001b[0m                                 Traceback (most recent call last)",
      "\u001b[1;32m<ipython-input-1-4cbe11f2c877>\u001b[0m in \u001b[0;36m<module>\u001b[1;34m\u001b[0m\n\u001b[1;32m----> 1\u001b[1;33m \u001b[0mconvert_data_frame\u001b[0m\u001b[1;33m(\u001b[0m\u001b[0mcoin_market_hourly\u001b[0m\u001b[1;33m[\u001b[0m\u001b[1;34m'bitcoin'\u001b[0m\u001b[1;33m]\u001b[0m\u001b[1;33m)\u001b[0m\u001b[1;33m\u001b[0m\u001b[1;33m\u001b[0m\u001b[0m\n\u001b[0m\u001b[0;32m      2\u001b[0m \u001b[0mdf_hourly\u001b[0m\u001b[1;33m=\u001b[0m\u001b[0mconvert_data_frame\u001b[0m\u001b[1;33m(\u001b[0m\u001b[0mcoin_market_hourly\u001b[0m\u001b[1;33m[\u001b[0m\u001b[1;34m'bitcoin'\u001b[0m\u001b[1;33m]\u001b[0m\u001b[1;33m)\u001b[0m\u001b[1;33m[\u001b[0m\u001b[1;33m[\u001b[0m\u001b[1;34m\"date\"\u001b[0m\u001b[1;33m,\u001b[0m\u001b[1;34m\"change\"\u001b[0m\u001b[1;33m]\u001b[0m\u001b[1;33m]\u001b[0m\u001b[1;33m\u001b[0m\u001b[1;33m\u001b[0m\u001b[0m\n\u001b[0;32m      3\u001b[0m \u001b[0mdf_hourly\u001b[0m\u001b[1;33m.\u001b[0m\u001b[0mtail\u001b[0m\u001b[1;33m(\u001b[0m\u001b[1;36m5\u001b[0m\u001b[1;33m)\u001b[0m\u001b[1;33m\u001b[0m\u001b[1;33m\u001b[0m\u001b[0m\n",
      "\u001b[1;31mNameError\u001b[0m: name 'convert_data_frame' is not defined"
     ]
    }
   ],
   "source": [
    "convert_data_frame(coin_market_hourly['bitcoin'])\n",
    "df_hourly=convert_data_frame(coin_market_hourly['bitcoin'])[[\"date\",\"change\"]]\n",
    "df_hourly.tail(5)"
   ]
  }
 ],
 "metadata": {
  "kernelspec": {
   "display_name": "Python 3",
   "language": "python",
   "name": "python3"
  },
  "language_info": {
   "codemirror_mode": {
    "name": "ipython",
    "version": 3
   },
   "file_extension": ".py",
   "mimetype": "text/x-python",
   "name": "python",
   "nbconvert_exporter": "python",
   "pygments_lexer": "ipython3",
   "version": "3.9.5"
  }
 },
 "nbformat": 4,
 "nbformat_minor": 5
}
