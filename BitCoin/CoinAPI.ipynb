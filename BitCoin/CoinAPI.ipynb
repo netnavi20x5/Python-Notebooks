{
 "cells": [
  {
   "cell_type": "code",
   "execution_count": 1,
   "id": "30e5d2f1-6dbd-4c33-8b28-52ca4fd412c9",
   "metadata": {},
   "outputs": [],
   "source": [
    "import configparser\n",
    "import json\n",
    "import requests\n",
    "import pandas as pd\n",
    "import os\n",
    "from time import gmtime, strftime\n",
    "import time"
   ]
  },
  {
   "cell_type": "code",
   "execution_count": 2,
   "id": "c46c43c8-b505-4d53-a197-a3c70842a948",
   "metadata": {},
   "outputs": [],
   "source": [
    "from time import gmtime, strftime\n",
    "import time\n",
    "import datetime\n",
    "\n",
    "result=time.gmtime()\n",
    "year=result.tm_year\n",
    "month=result.tm_mon\n",
    "day=result.tm_mday\n",
    "hour=result.tm_hour\n",
    "minute=0\n",
    "second=0\n",
    "result.tm_hour\n",
    "start_time_gmt = datetime.datetime(year, month, day-1,hour)\n",
    "end_time_gmt = datetime.datetime(year, month, day,hour)\n",
    "start_time=start_time_gmt.strftime(\"%Y-%m-%dT%H:%M:%SZ\")\n",
    "end_time=end_time_gmt.strftime(\"%Y-%m-%dT%H:%M:%SZ\")"
   ]
  },
  {
   "cell_type": "code",
   "execution_count": 3,
   "id": "a57bfc76-6597-4f3f-bdeb-aad381870d9c",
   "metadata": {},
   "outputs": [],
   "source": [
    "pd_coin_list=pd.read_json(\"https://api.coingecko.com/api/v3/coins/list\")\n"
   ]
  },
  {
   "cell_type": "code",
   "execution_count": 45,
   "id": "517c9a6b-3e2b-4a0f-9743-937cbbbeb85d",
   "metadata": {},
   "outputs": [
    {
     "data": {
      "text/plain": [
       "array(['bitcoin', 'bitcoin-cash', 'ethereum', 'litecoin', 'ripple'],\n",
       "      dtype=object)"
      ]
     },
     "execution_count": 45,
     "metadata": {},
     "output_type": "execute_result"
    }
   ],
   "source": [
    "\n"
   ]
  },
  {
   "cell_type": "code",
   "execution_count": null,
   "id": "8e495644-e6c9-4394-a26c-8320bf49f087",
   "metadata": {},
   "outputs": [],
   "source": []
  },
  {
   "cell_type": "code",
   "execution_count": 4,
   "id": "4684fb19-d475-494d-8ff4-8bab7f9e2bbe",
   "metadata": {},
   "outputs": [
    {
     "name": "stdout",
     "output_type": "stream",
     "text": [
      "https://api.coingecko.com/api/v3/coins/bitcoin/market_chart?vs_currency=MYR&days=5&interval=hourly\n",
      "https://api.coingecko.com/api/v3/coins/bitcoin-cash/market_chart?vs_currency=MYR&days=5&interval=hourly\n",
      "https://api.coingecko.com/api/v3/coins/ethereum/market_chart?vs_currency=MYR&days=5&interval=hourly\n",
      "https://api.coingecko.com/api/v3/coins/litecoin/market_chart?vs_currency=MYR&days=5&interval=hourly\n",
      "https://api.coingecko.com/api/v3/coins/ripple/market_chart?vs_currency=MYR&days=5&interval=hourly\n"
     ]
    },
    {
     "data": {
      "text/html": [
       "<div>\n",
       "<style scoped>\n",
       "    .dataframe tbody tr th:only-of-type {\n",
       "        vertical-align: middle;\n",
       "    }\n",
       "\n",
       "    .dataframe tbody tr th {\n",
       "        vertical-align: top;\n",
       "    }\n",
       "\n",
       "    .dataframe thead th {\n",
       "        text-align: right;\n",
       "    }\n",
       "</style>\n",
       "<table border=\"1\" class=\"dataframe\">\n",
       "  <thead>\n",
       "    <tr style=\"text-align: right;\">\n",
       "      <th></th>\n",
       "      <th>prices</th>\n",
       "      <th>market_caps</th>\n",
       "      <th>total_volumes</th>\n",
       "      <th>coin</th>\n",
       "    </tr>\n",
       "  </thead>\n",
       "  <tbody>\n",
       "    <tr>\n",
       "      <th>0</th>\n",
       "      <td>[1622816444245, 150601.13757456315]</td>\n",
       "      <td>[1622816444245, 2830863301155.255]</td>\n",
       "      <td>[1622816444245, 159904499294.71872]</td>\n",
       "      <td>bitcoin</td>\n",
       "    </tr>\n",
       "    <tr>\n",
       "      <th>1</th>\n",
       "      <td>[1622820681185, 151913.4690352508]</td>\n",
       "      <td>[1622820681185, 2844819882879.6157]</td>\n",
       "      <td>[1622820681185, 160362246183.18314]</td>\n",
       "      <td>bitcoin</td>\n",
       "    </tr>\n",
       "    <tr>\n",
       "      <th>2</th>\n",
       "      <td>[1622822962993, 152498.41346028878]</td>\n",
       "      <td>[1622822962993, 2864663480028.935]</td>\n",
       "      <td>[1622822962993, 164925683808.31448]</td>\n",
       "      <td>bitcoin</td>\n",
       "    </tr>\n",
       "    <tr>\n",
       "      <th>3</th>\n",
       "      <td>[1622827457317, 152936.00049281243]</td>\n",
       "      <td>[1622827457317, 2863172393938.226]</td>\n",
       "      <td>[1622827457317, 163318620005.9318]</td>\n",
       "      <td>bitcoin</td>\n",
       "    </tr>\n",
       "    <tr>\n",
       "      <th>4</th>\n",
       "      <td>[1622830960511, 152907.35498819296]</td>\n",
       "      <td>[1622830960511, 2862479282399.077]</td>\n",
       "      <td>[1622830960511, 160528257126.50317]</td>\n",
       "      <td>bitcoin</td>\n",
       "    </tr>\n",
       "    <tr>\n",
       "      <th>...</th>\n",
       "      <td>...</td>\n",
       "      <td>...</td>\n",
       "      <td>...</td>\n",
       "      <td>...</td>\n",
       "    </tr>\n",
       "    <tr>\n",
       "      <th>601</th>\n",
       "      <td>[1623233603868, 3.5351151424185963]</td>\n",
       "      <td>[1623233603868, 164028914633.6205]</td>\n",
       "      <td>[1623233603868, 19467883942.859642]</td>\n",
       "      <td>ripple</td>\n",
       "    </tr>\n",
       "    <tr>\n",
       "      <th>602</th>\n",
       "      <td>[1623236718407, 3.582928502439666]</td>\n",
       "      <td>[1623236718407, 165954769597.18463]</td>\n",
       "      <td>[1623236718407, 19619993044.279007]</td>\n",
       "      <td>ripple</td>\n",
       "    </tr>\n",
       "    <tr>\n",
       "      <th>603</th>\n",
       "      <td>[1623240559906, 3.634914978478456]</td>\n",
       "      <td>[1623240559906, 166947808516.89603]</td>\n",
       "      <td>[1623240559906, 20692450658.246227]</td>\n",
       "      <td>ripple</td>\n",
       "    </tr>\n",
       "    <tr>\n",
       "      <th>604</th>\n",
       "      <td>[1623244003333, 3.570830621755828]</td>\n",
       "      <td>[1623244003333, 165046781745.39984]</td>\n",
       "      <td>[1623244003333, 19874087899.822742]</td>\n",
       "      <td>ripple</td>\n",
       "    </tr>\n",
       "    <tr>\n",
       "      <th>605</th>\n",
       "      <td>[1623244522000, 3.57891675659865]</td>\n",
       "      <td>[1623244522000, 164849130915.63226]</td>\n",
       "      <td>[1623244522000, 19903963401.272636]</td>\n",
       "      <td>ripple</td>\n",
       "    </tr>\n",
       "  </tbody>\n",
       "</table>\n",
       "<p>606 rows × 4 columns</p>\n",
       "</div>"
      ],
      "text/plain": [
       "                                  prices                          market_caps  \\\n",
       "0    [1622816444245, 150601.13757456315]   [1622816444245, 2830863301155.255]   \n",
       "1     [1622820681185, 151913.4690352508]  [1622820681185, 2844819882879.6157]   \n",
       "2    [1622822962993, 152498.41346028878]   [1622822962993, 2864663480028.935]   \n",
       "3    [1622827457317, 152936.00049281243]   [1622827457317, 2863172393938.226]   \n",
       "4    [1622830960511, 152907.35498819296]   [1622830960511, 2862479282399.077]   \n",
       "..                                   ...                                  ...   \n",
       "601  [1623233603868, 3.5351151424185963]   [1623233603868, 164028914633.6205]   \n",
       "602   [1623236718407, 3.582928502439666]  [1623236718407, 165954769597.18463]   \n",
       "603   [1623240559906, 3.634914978478456]  [1623240559906, 166947808516.89603]   \n",
       "604   [1623244003333, 3.570830621755828]  [1623244003333, 165046781745.39984]   \n",
       "605    [1623244522000, 3.57891675659865]  [1623244522000, 164849130915.63226]   \n",
       "\n",
       "                           total_volumes     coin  \n",
       "0    [1622816444245, 159904499294.71872]  bitcoin  \n",
       "1    [1622820681185, 160362246183.18314]  bitcoin  \n",
       "2    [1622822962993, 164925683808.31448]  bitcoin  \n",
       "3     [1622827457317, 163318620005.9318]  bitcoin  \n",
       "4    [1622830960511, 160528257126.50317]  bitcoin  \n",
       "..                                   ...      ...  \n",
       "601  [1623233603868, 19467883942.859642]   ripple  \n",
       "602  [1623236718407, 19619993044.279007]   ripple  \n",
       "603  [1623240559906, 20692450658.246227]   ripple  \n",
       "604  [1623244003333, 19874087899.822742]   ripple  \n",
       "605  [1623244522000, 19903963401.272636]   ripple  \n",
       "\n",
       "[606 rows x 4 columns]"
      ]
     },
     "execution_count": 4,
     "metadata": {},
     "output_type": "execute_result"
    }
   ],
   "source": [
    "#sample\n",
    "\n",
    "#https://api.coingecko.com/api/v3/coins/bitcoin/market_chart?vs_currency=MYR&days=7&interval=hourly\n",
    "coin_name =['Bitcoin', 'Bitcoin Cash', 'Ethereum', 'Litecoin', 'XRP']\n",
    "coin_id=pd_coin_list[pd_coin_list.name.isin(coin_name)].id.values\n",
    "coin_id\n",
    "\n",
    "coin_name =['bitcoin', 'bitcoin cash', 'ethereum', 'itecoin', 'XRP']\n",
    "vs_currency='MYR'\n",
    "days='5'\n",
    "interval='hourly'\n",
    "\n",
    "df_market=dict()\n",
    "url=dict()\n",
    "df_market_all=pd.DataFrame()\n",
    "for coin in coin_id:\n",
    "    url[coin]=f\"https://api.coingecko.com/api/v3/coins/{coin}/market_chart?vs_currency={vs_currency}&days={days}&interval={interval}\"\n",
    "    print (url[coin])\n",
    "    df_market[coin]=pd.read_json(url[coin])\n",
    "    df_market[coin][\"coin\"]=coin\n",
    "    df_market_all=df_market_all.append(df_market[coin],ignore_index=True)\n",
    "df_market_all\n"
   ]
  },
  {
   "cell_type": "code",
   "execution_count": 6,
   "id": "37a19708-0159-42c5-b784-1275840ef2f9",
   "metadata": {},
   "outputs": [
    {
     "data": {
      "text/html": [
       "<div>\n",
       "<style scoped>\n",
       "    .dataframe tbody tr th:only-of-type {\n",
       "        vertical-align: middle;\n",
       "    }\n",
       "\n",
       "    .dataframe tbody tr th {\n",
       "        vertical-align: top;\n",
       "    }\n",
       "\n",
       "    .dataframe thead th {\n",
       "        text-align: right;\n",
       "    }\n",
       "</style>\n",
       "<table border=\"1\" class=\"dataframe\">\n",
       "  <thead>\n",
       "    <tr style=\"text-align: right;\">\n",
       "      <th></th>\n",
       "      <th>prices</th>\n",
       "      <th>market_caps</th>\n",
       "      <th>total_volumes</th>\n",
       "      <th>coin</th>\n",
       "    </tr>\n",
       "  </thead>\n",
       "  <tbody>\n",
       "    <tr>\n",
       "      <th>0</th>\n",
       "      <td>[1622816444245, 150601.13757456315]</td>\n",
       "      <td>[1622816444245, 2830863301155.255]</td>\n",
       "      <td>[1622816444245, 159904499294.71872]</td>\n",
       "      <td>bitcoin</td>\n",
       "    </tr>\n",
       "    <tr>\n",
       "      <th>1</th>\n",
       "      <td>[1622820681185, 151913.4690352508]</td>\n",
       "      <td>[1622820681185, 2844819882879.6157]</td>\n",
       "      <td>[1622820681185, 160362246183.18314]</td>\n",
       "      <td>bitcoin</td>\n",
       "    </tr>\n",
       "    <tr>\n",
       "      <th>2</th>\n",
       "      <td>[1622822962993, 152498.41346028878]</td>\n",
       "      <td>[1622822962993, 2864663480028.935]</td>\n",
       "      <td>[1622822962993, 164925683808.31448]</td>\n",
       "      <td>bitcoin</td>\n",
       "    </tr>\n",
       "    <tr>\n",
       "      <th>3</th>\n",
       "      <td>[1622827457317, 152936.00049281243]</td>\n",
       "      <td>[1622827457317, 2863172393938.226]</td>\n",
       "      <td>[1622827457317, 163318620005.9318]</td>\n",
       "      <td>bitcoin</td>\n",
       "    </tr>\n",
       "    <tr>\n",
       "      <th>4</th>\n",
       "      <td>[1622830960511, 152907.35498819296]</td>\n",
       "      <td>[1622830960511, 2862479282399.077]</td>\n",
       "      <td>[1622830960511, 160528257126.50317]</td>\n",
       "      <td>bitcoin</td>\n",
       "    </tr>\n",
       "  </tbody>\n",
       "</table>\n",
       "</div>"
      ],
      "text/plain": [
       "                                prices                          market_caps  \\\n",
       "0  [1622816444245, 150601.13757456315]   [1622816444245, 2830863301155.255]   \n",
       "1   [1622820681185, 151913.4690352508]  [1622820681185, 2844819882879.6157]   \n",
       "2  [1622822962993, 152498.41346028878]   [1622822962993, 2864663480028.935]   \n",
       "3  [1622827457317, 152936.00049281243]   [1622827457317, 2863172393938.226]   \n",
       "4  [1622830960511, 152907.35498819296]   [1622830960511, 2862479282399.077]   \n",
       "\n",
       "                         total_volumes     coin  \n",
       "0  [1622816444245, 159904499294.71872]  bitcoin  \n",
       "1  [1622820681185, 160362246183.18314]  bitcoin  \n",
       "2  [1622822962993, 164925683808.31448]  bitcoin  \n",
       "3   [1622827457317, 163318620005.9318]  bitcoin  \n",
       "4  [1622830960511, 160528257126.50317]  bitcoin  "
      ]
     },
     "execution_count": 6,
     "metadata": {},
     "output_type": "execute_result"
    }
   ],
   "source": [
    "df_market_all.head()"
   ]
  },
  {
   "cell_type": "code",
   "execution_count": 31,
   "id": "4cbd795c-779a-49d0-b5bd-3aa5165d1233",
   "metadata": {},
   "outputs": [],
   "source": [
    "df_market_clean=df_market_all.copy()\n",
    "df_market_clean[[\"epoch1\",\"price\"]]=pd.DataFrame(df_market_clean.prices.tolist(), index= df_market_clean.index)\n",
    "df_market_clean[[\"epoch2\",\"market_caps_2\"]]=pd.DataFrame(df_market_clean.market_caps.tolist(), index= df_market_clean.index)\n",
    "df_market_clean[[\"epoch3\",\"total_volumes_2\"]]=pd.DataFrame(df_market_clean.total_volumes.tolist(), index= df_market_clean.index)\n",
    "df_market_clean[\"time\"]=pd.to_datetime(df_market_clean['epoch1'],unit='ms')\n",
    "df_market_clean=df_market_clean[[\"time\",\"price\",\"coin\"]]\n"
   ]
  },
  {
   "cell_type": "code",
   "execution_count": 32,
   "id": "54e83a40-a60a-43df-b3a8-47b1bc7a46a1",
   "metadata": {},
   "outputs": [
    {
     "data": {
      "text/html": [
       "<div>\n",
       "<style scoped>\n",
       "    .dataframe tbody tr th:only-of-type {\n",
       "        vertical-align: middle;\n",
       "    }\n",
       "\n",
       "    .dataframe tbody tr th {\n",
       "        vertical-align: top;\n",
       "    }\n",
       "\n",
       "    .dataframe thead th {\n",
       "        text-align: right;\n",
       "    }\n",
       "</style>\n",
       "<table border=\"1\" class=\"dataframe\">\n",
       "  <thead>\n",
       "    <tr style=\"text-align: right;\">\n",
       "      <th></th>\n",
       "      <th>time</th>\n",
       "      <th>price</th>\n",
       "      <th>coin</th>\n",
       "    </tr>\n",
       "  </thead>\n",
       "  <tbody>\n",
       "    <tr>\n",
       "      <th>0</th>\n",
       "      <td>2021-06-04 14:20:44.245</td>\n",
       "      <td>150601.137575</td>\n",
       "      <td>bitcoin</td>\n",
       "    </tr>\n",
       "    <tr>\n",
       "      <th>1</th>\n",
       "      <td>2021-06-04 15:31:21.185</td>\n",
       "      <td>151913.469035</td>\n",
       "      <td>bitcoin</td>\n",
       "    </tr>\n",
       "    <tr>\n",
       "      <th>2</th>\n",
       "      <td>2021-06-04 16:09:22.993</td>\n",
       "      <td>152498.413460</td>\n",
       "      <td>bitcoin</td>\n",
       "    </tr>\n",
       "    <tr>\n",
       "      <th>3</th>\n",
       "      <td>2021-06-04 17:24:17.317</td>\n",
       "      <td>152936.000493</td>\n",
       "      <td>bitcoin</td>\n",
       "    </tr>\n",
       "    <tr>\n",
       "      <th>4</th>\n",
       "      <td>2021-06-04 18:22:40.511</td>\n",
       "      <td>152907.354988</td>\n",
       "      <td>bitcoin</td>\n",
       "    </tr>\n",
       "    <tr>\n",
       "      <th>...</th>\n",
       "      <td>...</td>\n",
       "      <td>...</td>\n",
       "      <td>...</td>\n",
       "    </tr>\n",
       "    <tr>\n",
       "      <th>601</th>\n",
       "      <td>2021-06-09 10:13:23.868</td>\n",
       "      <td>3.535115</td>\n",
       "      <td>ripple</td>\n",
       "    </tr>\n",
       "    <tr>\n",
       "      <th>602</th>\n",
       "      <td>2021-06-09 11:05:18.407</td>\n",
       "      <td>3.582929</td>\n",
       "      <td>ripple</td>\n",
       "    </tr>\n",
       "    <tr>\n",
       "      <th>603</th>\n",
       "      <td>2021-06-09 12:09:19.906</td>\n",
       "      <td>3.634915</td>\n",
       "      <td>ripple</td>\n",
       "    </tr>\n",
       "    <tr>\n",
       "      <th>604</th>\n",
       "      <td>2021-06-09 13:06:43.333</td>\n",
       "      <td>3.570831</td>\n",
       "      <td>ripple</td>\n",
       "    </tr>\n",
       "    <tr>\n",
       "      <th>605</th>\n",
       "      <td>2021-06-09 13:15:22.000</td>\n",
       "      <td>3.578917</td>\n",
       "      <td>ripple</td>\n",
       "    </tr>\n",
       "  </tbody>\n",
       "</table>\n",
       "<p>606 rows × 3 columns</p>\n",
       "</div>"
      ],
      "text/plain": [
       "                       time          price     coin\n",
       "0   2021-06-04 14:20:44.245  150601.137575  bitcoin\n",
       "1   2021-06-04 15:31:21.185  151913.469035  bitcoin\n",
       "2   2021-06-04 16:09:22.993  152498.413460  bitcoin\n",
       "3   2021-06-04 17:24:17.317  152936.000493  bitcoin\n",
       "4   2021-06-04 18:22:40.511  152907.354988  bitcoin\n",
       "..                      ...            ...      ...\n",
       "601 2021-06-09 10:13:23.868       3.535115   ripple\n",
       "602 2021-06-09 11:05:18.407       3.582929   ripple\n",
       "603 2021-06-09 12:09:19.906       3.634915   ripple\n",
       "604 2021-06-09 13:06:43.333       3.570831   ripple\n",
       "605 2021-06-09 13:15:22.000       3.578917   ripple\n",
       "\n",
       "[606 rows x 3 columns]"
      ]
     },
     "execution_count": 32,
     "metadata": {},
     "output_type": "execute_result"
    }
   ],
   "source": [
    "df_market_clean\n"
   ]
  },
  {
   "cell_type": "code",
   "execution_count": 28,
   "id": "59ffb4c0-c49c-430c-b4b5-ff365c7d0261",
   "metadata": {},
   "outputs": [
    {
     "data": {
      "text/plain": [
       "<AxesSubplot:xlabel='time', ylabel='price'>"
      ]
     },
     "execution_count": 28,
     "metadata": {},
     "output_type": "execute_result"
    },
    {
     "data": {
      "image/png": "[encoded data removed]",
      "text/plain": [
       "<Figure size 432x288 with 1 Axes>"
      ]
     },
     "metadata": {
      "needs_background": "light"
     },
     "output_type": "display_data"
    }
   ],
   "source": [
    "import seaborn as sns\n",
    "#df_market_clean[[\"time\",\"price\",\"market_caps_2\",\"total_volumes_2\"]]\n",
    "#sns.lineplot(data=df_market_clean[[\"time\",\"price\",\"market_caps_2\",\"total_volumes_2\"]])\n",
    "\n",
    "#pd.melt(df_market_clean, ['time'])\n",
    "sns.lineplot(data=df_market_clean,x=\"time\",y=\"price\",hue='coin')"
   ]
  },
  {
   "cell_type": "code",
   "execution_count": 36,
   "id": "1479c9c4-cbf4-45ea-b561-10ca17bdd888",
   "metadata": {},
   "outputs": [
    {
     "data": {
      "text/plain": [
       "<AxesSubplot:xlabel='time', ylabel='price'>"
      ]
     },
     "execution_count": 36,
     "metadata": {},
     "output_type": "execute_result"
    },
    {
     "data": {
      "image/png": "[encoded data removed]",
      "text/plain": [
       "<Figure size 432x288 with 1 Axes>"
      ]
     },
     "metadata": {
      "needs_background": "light"
     },
     "output_type": "display_data"
    }
   ],
   "source": [
    "df_market_clean[df_market_clean.coin==\"bitcoin\"]\n",
    "#sns.lineplot(data=df_market_clean[df_market_clean.coin==\"bitcoin\"],x=\"time\",y=\"price\",hue='coin')\n",
    "sns.lineplot(data=df_market_clean[df_market_clean.coin==\"ripple\"],x=\"time\",y=\"price\",hue='coin')"
   ]
  },
  {
   "cell_type": "code",
   "execution_count": 45,
   "id": "33bd85b8-2832-49cf-b892-0eb619c9064d",
   "metadata": {},
   "outputs": [
    {
     "ename": "TypeError",
     "evalue": "Index(...) must be called with a collection of some kind, 'time' was passed",
     "output_type": "error",
     "traceback": [
      "\u001b[1;31m---------------------------------------------------------------------------\u001b[0m",
      "\u001b[1;31mTypeError\u001b[0m                                 Traceback (most recent call last)",
      "\u001b[1;32m<ipython-input-45-766cd5739f8e>\u001b[0m in \u001b[0;36m<module>\u001b[1;34m\u001b[0m\n\u001b[1;32m----> 1\u001b[1;33m \u001b[0mdf_market_clean\u001b[0m\u001b[1;33m[\u001b[0m\u001b[0mdf_market_clean\u001b[0m\u001b[1;33m.\u001b[0m\u001b[0mcoin\u001b[0m\u001b[1;33m==\u001b[0m\u001b[1;34m\"bitcoin\"\u001b[0m\u001b[1;33m]\u001b[0m\u001b[1;33m.\u001b[0m\u001b[0mreindex\u001b[0m\u001b[1;33m(\u001b[0m\u001b[1;34m\"time\"\u001b[0m\u001b[1;33m)\u001b[0m\u001b[1;33m\u001b[0m\u001b[1;33m\u001b[0m\u001b[0m\n\u001b[0m",
      "\u001b[1;32mc:\\users\\tm30231\\documents\\github\\git-env\\lib\\site-packages\\pandas\\util\\_decorators.py\u001b[0m in \u001b[0;36mwrapper\u001b[1;34m(*args, **kwargs)\u001b[0m\n\u001b[0;32m    310\u001b[0m         \u001b[1;33m@\u001b[0m\u001b[0mwraps\u001b[0m\u001b[1;33m(\u001b[0m\u001b[0mfunc\u001b[0m\u001b[1;33m)\u001b[0m\u001b[1;33m\u001b[0m\u001b[1;33m\u001b[0m\u001b[0m\n\u001b[0;32m    311\u001b[0m         \u001b[1;32mdef\u001b[0m \u001b[0mwrapper\u001b[0m\u001b[1;33m(\u001b[0m\u001b[1;33m*\u001b[0m\u001b[0margs\u001b[0m\u001b[1;33m,\u001b[0m \u001b[1;33m**\u001b[0m\u001b[0mkwargs\u001b[0m\u001b[1;33m)\u001b[0m \u001b[1;33m->\u001b[0m \u001b[0mCallable\u001b[0m\u001b[1;33m[\u001b[0m\u001b[1;33m...\u001b[0m\u001b[1;33m,\u001b[0m \u001b[0mAny\u001b[0m\u001b[1;33m]\u001b[0m\u001b[1;33m:\u001b[0m\u001b[1;33m\u001b[0m\u001b[1;33m\u001b[0m\u001b[0m\n\u001b[1;32m--> 312\u001b[1;33m             \u001b[1;32mreturn\u001b[0m \u001b[0mfunc\u001b[0m\u001b[1;33m(\u001b[0m\u001b[1;33m*\u001b[0m\u001b[0margs\u001b[0m\u001b[1;33m,\u001b[0m \u001b[1;33m**\u001b[0m\u001b[0mkwargs\u001b[0m\u001b[1;33m)\u001b[0m\u001b[1;33m\u001b[0m\u001b[1;33m\u001b[0m\u001b[0m\n\u001b[0m\u001b[0;32m    313\u001b[0m \u001b[1;33m\u001b[0m\u001b[0m\n\u001b[0;32m    314\u001b[0m         \u001b[0mkind\u001b[0m \u001b[1;33m=\u001b[0m \u001b[0minspect\u001b[0m\u001b[1;33m.\u001b[0m\u001b[0mParameter\u001b[0m\u001b[1;33m.\u001b[0m\u001b[0mPOSITIONAL_OR_KEYWORD\u001b[0m\u001b[1;33m\u001b[0m\u001b[1;33m\u001b[0m\u001b[0m\n",
      "\u001b[1;32mc:\\users\\tm30231\\documents\\github\\git-env\\lib\\site-packages\\pandas\\core\\frame.py\u001b[0m in \u001b[0;36mreindex\u001b[1;34m(self, *args, **kwargs)\u001b[0m\n\u001b[0;32m   4174\u001b[0m         \u001b[0mkwargs\u001b[0m\u001b[1;33m.\u001b[0m\u001b[0mpop\u001b[0m\u001b[1;33m(\u001b[0m\u001b[1;34m\"axis\"\u001b[0m\u001b[1;33m,\u001b[0m \u001b[1;32mNone\u001b[0m\u001b[1;33m)\u001b[0m\u001b[1;33m\u001b[0m\u001b[1;33m\u001b[0m\u001b[0m\n\u001b[0;32m   4175\u001b[0m         \u001b[0mkwargs\u001b[0m\u001b[1;33m.\u001b[0m\u001b[0mpop\u001b[0m\u001b[1;33m(\u001b[0m\u001b[1;34m\"labels\"\u001b[0m\u001b[1;33m,\u001b[0m \u001b[1;32mNone\u001b[0m\u001b[1;33m)\u001b[0m\u001b[1;33m\u001b[0m\u001b[1;33m\u001b[0m\u001b[0m\n\u001b[1;32m-> 4176\u001b[1;33m         \u001b[1;32mreturn\u001b[0m \u001b[0msuper\u001b[0m\u001b[1;33m(\u001b[0m\u001b[1;33m)\u001b[0m\u001b[1;33m.\u001b[0m\u001b[0mreindex\u001b[0m\u001b[1;33m(\u001b[0m\u001b[1;33m**\u001b[0m\u001b[0mkwargs\u001b[0m\u001b[1;33m)\u001b[0m\u001b[1;33m\u001b[0m\u001b[1;33m\u001b[0m\u001b[0m\n\u001b[0m\u001b[0;32m   4177\u001b[0m \u001b[1;33m\u001b[0m\u001b[0m\n\u001b[0;32m   4178\u001b[0m     def drop(\n",
      "\u001b[1;32mc:\\users\\tm30231\\documents\\github\\git-env\\lib\\site-packages\\pandas\\core\\generic.py\u001b[0m in \u001b[0;36mreindex\u001b[1;34m(self, *args, **kwargs)\u001b[0m\n\u001b[0;32m   4809\u001b[0m \u001b[1;33m\u001b[0m\u001b[0m\n\u001b[0;32m   4810\u001b[0m         \u001b[1;31m# perform the reindex on the axes\u001b[0m\u001b[1;33m\u001b[0m\u001b[1;33m\u001b[0m\u001b[1;33m\u001b[0m\u001b[0m\n\u001b[1;32m-> 4811\u001b[1;33m         return self._reindex_axes(\n\u001b[0m\u001b[0;32m   4812\u001b[0m             \u001b[0maxes\u001b[0m\u001b[1;33m,\u001b[0m \u001b[0mlevel\u001b[0m\u001b[1;33m,\u001b[0m \u001b[0mlimit\u001b[0m\u001b[1;33m,\u001b[0m \u001b[0mtolerance\u001b[0m\u001b[1;33m,\u001b[0m \u001b[0mmethod\u001b[0m\u001b[1;33m,\u001b[0m \u001b[0mfill_value\u001b[0m\u001b[1;33m,\u001b[0m \u001b[0mcopy\u001b[0m\u001b[1;33m\u001b[0m\u001b[1;33m\u001b[0m\u001b[0m\n\u001b[0;32m   4813\u001b[0m         ).__finalize__(self, method=\"reindex\")\n",
      "\u001b[1;32mc:\\users\\tm30231\\documents\\github\\git-env\\lib\\site-packages\\pandas\\core\\frame.py\u001b[0m in \u001b[0;36m_reindex_axes\u001b[1;34m(self, axes, level, limit, tolerance, method, fill_value, copy)\u001b[0m\n\u001b[0;32m   4020\u001b[0m         \u001b[0mindex\u001b[0m \u001b[1;33m=\u001b[0m \u001b[0maxes\u001b[0m\u001b[1;33m[\u001b[0m\u001b[1;34m\"index\"\u001b[0m\u001b[1;33m]\u001b[0m\u001b[1;33m\u001b[0m\u001b[1;33m\u001b[0m\u001b[0m\n\u001b[0;32m   4021\u001b[0m         \u001b[1;32mif\u001b[0m \u001b[0mindex\u001b[0m \u001b[1;32mis\u001b[0m \u001b[1;32mnot\u001b[0m \u001b[1;32mNone\u001b[0m\u001b[1;33m:\u001b[0m\u001b[1;33m\u001b[0m\u001b[1;33m\u001b[0m\u001b[0m\n\u001b[1;32m-> 4022\u001b[1;33m             frame = frame._reindex_index(\n\u001b[0m\u001b[0;32m   4023\u001b[0m                 \u001b[0mindex\u001b[0m\u001b[1;33m,\u001b[0m \u001b[0mmethod\u001b[0m\u001b[1;33m,\u001b[0m \u001b[0mcopy\u001b[0m\u001b[1;33m,\u001b[0m \u001b[0mlevel\u001b[0m\u001b[1;33m,\u001b[0m \u001b[0mfill_value\u001b[0m\u001b[1;33m,\u001b[0m \u001b[0mlimit\u001b[0m\u001b[1;33m,\u001b[0m \u001b[0mtolerance\u001b[0m\u001b[1;33m\u001b[0m\u001b[1;33m\u001b[0m\u001b[0m\n\u001b[0;32m   4024\u001b[0m             )\n",
      "\u001b[1;32mc:\\users\\tm30231\\documents\\github\\git-env\\lib\\site-packages\\pandas\\core\\frame.py\u001b[0m in \u001b[0;36m_reindex_index\u001b[1;34m(self, new_index, method, copy, level, fill_value, limit, tolerance)\u001b[0m\n\u001b[0;32m   4036\u001b[0m         \u001b[0mtolerance\u001b[0m\u001b[1;33m=\u001b[0m\u001b[1;32mNone\u001b[0m\u001b[1;33m,\u001b[0m\u001b[1;33m\u001b[0m\u001b[1;33m\u001b[0m\u001b[0m\n\u001b[0;32m   4037\u001b[0m     ):\n\u001b[1;32m-> 4038\u001b[1;33m         new_index, indexer = self.index.reindex(\n\u001b[0m\u001b[0;32m   4039\u001b[0m             \u001b[0mnew_index\u001b[0m\u001b[1;33m,\u001b[0m \u001b[0mmethod\u001b[0m\u001b[1;33m=\u001b[0m\u001b[0mmethod\u001b[0m\u001b[1;33m,\u001b[0m \u001b[0mlevel\u001b[0m\u001b[1;33m=\u001b[0m\u001b[0mlevel\u001b[0m\u001b[1;33m,\u001b[0m \u001b[0mlimit\u001b[0m\u001b[1;33m=\u001b[0m\u001b[0mlimit\u001b[0m\u001b[1;33m,\u001b[0m \u001b[0mtolerance\u001b[0m\u001b[1;33m=\u001b[0m\u001b[0mtolerance\u001b[0m\u001b[1;33m\u001b[0m\u001b[1;33m\u001b[0m\u001b[0m\n\u001b[0;32m   4040\u001b[0m         )\n",
      "\u001b[1;32mc:\\users\\tm30231\\documents\\github\\git-env\\lib\\site-packages\\pandas\\core\\indexes\\base.py\u001b[0m in \u001b[0;36mreindex\u001b[1;34m(self, target, method, level, limit, tolerance)\u001b[0m\n\u001b[0;32m   3501\u001b[0m             \u001b[0mtarget\u001b[0m \u001b[1;33m=\u001b[0m \u001b[0mself\u001b[0m\u001b[1;33m[\u001b[0m\u001b[1;33m:\u001b[0m\u001b[1;36m0\u001b[0m\u001b[1;33m]\u001b[0m\u001b[1;33m\u001b[0m\u001b[1;33m\u001b[0m\u001b[0m\n\u001b[0;32m   3502\u001b[0m         \u001b[1;32melse\u001b[0m\u001b[1;33m:\u001b[0m\u001b[1;33m\u001b[0m\u001b[1;33m\u001b[0m\u001b[0m\n\u001b[1;32m-> 3503\u001b[1;33m             \u001b[0mtarget\u001b[0m \u001b[1;33m=\u001b[0m \u001b[0mensure_index\u001b[0m\u001b[1;33m(\u001b[0m\u001b[0mtarget\u001b[0m\u001b[1;33m)\u001b[0m\u001b[1;33m\u001b[0m\u001b[1;33m\u001b[0m\u001b[0m\n\u001b[0m\u001b[0;32m   3504\u001b[0m \u001b[1;33m\u001b[0m\u001b[0m\n\u001b[0;32m   3505\u001b[0m         \u001b[1;32mif\u001b[0m \u001b[0mlevel\u001b[0m \u001b[1;32mis\u001b[0m \u001b[1;32mnot\u001b[0m \u001b[1;32mNone\u001b[0m\u001b[1;33m:\u001b[0m\u001b[1;33m\u001b[0m\u001b[1;33m\u001b[0m\u001b[0m\n",
      "\u001b[1;32mc:\\users\\tm30231\\documents\\github\\git-env\\lib\\site-packages\\pandas\\core\\indexes\\base.py\u001b[0m in \u001b[0;36mensure_index\u001b[1;34m(index_like, copy)\u001b[0m\n\u001b[0;32m   5915\u001b[0m             \u001b[0mindex_like\u001b[0m \u001b[1;33m=\u001b[0m \u001b[0mcopy_func\u001b[0m\u001b[1;33m(\u001b[0m\u001b[0mindex_like\u001b[0m\u001b[1;33m)\u001b[0m\u001b[1;33m\u001b[0m\u001b[1;33m\u001b[0m\u001b[0m\n\u001b[0;32m   5916\u001b[0m \u001b[1;33m\u001b[0m\u001b[0m\n\u001b[1;32m-> 5917\u001b[1;33m     \u001b[1;32mreturn\u001b[0m \u001b[0mIndex\u001b[0m\u001b[1;33m(\u001b[0m\u001b[0mindex_like\u001b[0m\u001b[1;33m)\u001b[0m\u001b[1;33m\u001b[0m\u001b[1;33m\u001b[0m\u001b[0m\n\u001b[0m\u001b[0;32m   5918\u001b[0m \u001b[1;33m\u001b[0m\u001b[0m\n\u001b[0;32m   5919\u001b[0m \u001b[1;33m\u001b[0m\u001b[0m\n",
      "\u001b[1;32mc:\\users\\tm30231\\documents\\github\\git-env\\lib\\site-packages\\pandas\\core\\indexes\\base.py\u001b[0m in \u001b[0;36m__new__\u001b[1;34m(cls, data, dtype, copy, name, tupleize_cols, **kwargs)\u001b[0m\n\u001b[0;32m    370\u001b[0m \u001b[1;33m\u001b[0m\u001b[0m\n\u001b[0;32m    371\u001b[0m         \u001b[1;32melif\u001b[0m \u001b[0mdata\u001b[0m \u001b[1;32mis\u001b[0m \u001b[1;32mNone\u001b[0m \u001b[1;32mor\u001b[0m \u001b[0mis_scalar\u001b[0m\u001b[1;33m(\u001b[0m\u001b[0mdata\u001b[0m\u001b[1;33m)\u001b[0m\u001b[1;33m:\u001b[0m\u001b[1;33m\u001b[0m\u001b[1;33m\u001b[0m\u001b[0m\n\u001b[1;32m--> 372\u001b[1;33m             \u001b[1;32mraise\u001b[0m \u001b[0mcls\u001b[0m\u001b[1;33m.\u001b[0m\u001b[0m_scalar_data_error\u001b[0m\u001b[1;33m(\u001b[0m\u001b[0mdata\u001b[0m\u001b[1;33m)\u001b[0m\u001b[1;33m\u001b[0m\u001b[1;33m\u001b[0m\u001b[0m\n\u001b[0m\u001b[0;32m    373\u001b[0m         \u001b[1;32melif\u001b[0m \u001b[0mhasattr\u001b[0m\u001b[1;33m(\u001b[0m\u001b[0mdata\u001b[0m\u001b[1;33m,\u001b[0m \u001b[1;34m\"__array__\"\u001b[0m\u001b[1;33m)\u001b[0m\u001b[1;33m:\u001b[0m\u001b[1;33m\u001b[0m\u001b[1;33m\u001b[0m\u001b[0m\n\u001b[0;32m    374\u001b[0m             \u001b[1;32mreturn\u001b[0m \u001b[0mIndex\u001b[0m\u001b[1;33m(\u001b[0m\u001b[0mnp\u001b[0m\u001b[1;33m.\u001b[0m\u001b[0masarray\u001b[0m\u001b[1;33m(\u001b[0m\u001b[0mdata\u001b[0m\u001b[1;33m)\u001b[0m\u001b[1;33m,\u001b[0m \u001b[0mdtype\u001b[0m\u001b[1;33m=\u001b[0m\u001b[0mdtype\u001b[0m\u001b[1;33m,\u001b[0m \u001b[0mcopy\u001b[0m\u001b[1;33m=\u001b[0m\u001b[0mcopy\u001b[0m\u001b[1;33m,\u001b[0m \u001b[0mname\u001b[0m\u001b[1;33m=\u001b[0m\u001b[0mname\u001b[0m\u001b[1;33m,\u001b[0m \u001b[1;33m**\u001b[0m\u001b[0mkwargs\u001b[0m\u001b[1;33m)\u001b[0m\u001b[1;33m\u001b[0m\u001b[1;33m\u001b[0m\u001b[0m\n",
      "\u001b[1;31mTypeError\u001b[0m: Index(...) must be called with a collection of some kind, 'time' was passed"
     ]
    }
   ],
   "source": []
  }
 ],
 "metadata": {
  "kernelspec": {
   "display_name": "Python 3",
   "language": "python",
   "name": "python3"
  },
  "language_info": {
   "codemirror_mode": {
    "name": "ipython",
    "version": 3
   },
   "file_extension": ".py",
   "mimetype": "text/x-python",
   "name": "python",
   "nbconvert_exporter": "python",
   "pygments_lexer": "ipython3",
   "version": "3.9.5"
  }
 },
 "nbformat": 4,
 "nbformat_minor": 5
}
