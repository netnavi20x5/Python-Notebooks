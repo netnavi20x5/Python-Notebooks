{
 "cells": [
  {
   "cell_type": "markdown",
   "id": "478c852a-ebb4-4f6e-bfab-fbad151c1b9c",
   "metadata": {},
   "source": [
    "## Research and Testing Bitcoin Analytics On Python\n",
    "### data Source: https://www.coingecko.com/en/api#explore-api\n",
    "\n",
    "SOURCE https://www.coingecko.com/en/api#explore-api\n",
    "\n",
    "Read Api Documentation on \n",
    "https://www.coingecko.com/en/api#explore-api\n",
    "\n",
    "\n"
   ]
  },
  {
   "cell_type": "code",
   "execution_count": 1,
   "id": "b79e8822-1a72-4c8f-9e1b-201d6a38c9bc",
   "metadata": {},
   "outputs": [],
   "source": [
    "import json\n",
    "import requests\n",
    "import pandas as pd\n",
    "import seaborn as sns "
   ]
  },
  {
   "cell_type": "code",
   "execution_count": 2,
   "id": "b1d24c67-0256-4fff-8789-81fa9f4b5589",
   "metadata": {},
   "outputs": [],
   "source": [
    "df_coin=pd.read_json(\"https://api.coingecko.com/api/v3/coins/list\")"
   ]
  },
  {
   "cell_type": "code",
   "execution_count": 3,
   "id": "e2ea4f39-12d5-4c19-b966-fd80d38cba43",
   "metadata": {},
   "outputs": [
    {
     "data": {
      "text/html": [
       "<div>\n",
       "<style scoped>\n",
       "    .dataframe tbody tr th:only-of-type {\n",
       "        vertical-align: middle;\n",
       "    }\n",
       "\n",
       "    .dataframe tbody tr th {\n",
       "        vertical-align: top;\n",
       "    }\n",
       "\n",
       "    .dataframe thead th {\n",
       "        text-align: right;\n",
       "    }\n",
       "</style>\n",
       "<table border=\"1\" class=\"dataframe\">\n",
       "  <thead>\n",
       "    <tr style=\"text-align: right;\">\n",
       "      <th></th>\n",
       "      <th>id</th>\n",
       "      <th>symbol</th>\n",
       "      <th>name</th>\n",
       "    </tr>\n",
       "  </thead>\n",
       "  <tbody>\n",
       "    <tr>\n",
       "      <th>831</th>\n",
       "      <td>binance-peg-bitcoin-cash</td>\n",
       "      <td>bch</td>\n",
       "      <td>Binance-Peg Bitcoin Cash</td>\n",
       "    </tr>\n",
       "    <tr>\n",
       "      <th>836</th>\n",
       "      <td>binance-peg-litecoin</td>\n",
       "      <td>ltc</td>\n",
       "      <td>Binance-Peg Litecoin</td>\n",
       "    </tr>\n",
       "    <tr>\n",
       "      <th>838</th>\n",
       "      <td>binance-peg-xrp</td>\n",
       "      <td>xrp</td>\n",
       "      <td>Binance-Peg XRP</td>\n",
       "    </tr>\n",
       "    <tr>\n",
       "      <th>888</th>\n",
       "      <td>bitcoin</td>\n",
       "      <td>btc</td>\n",
       "      <td>Bitcoin</td>\n",
       "    </tr>\n",
       "    <tr>\n",
       "      <th>899</th>\n",
       "      <td>bitcoin-cash</td>\n",
       "      <td>bch</td>\n",
       "      <td>Bitcoin Cash</td>\n",
       "    </tr>\n",
       "    <tr>\n",
       "      <th>2493</th>\n",
       "      <td>ethereum</td>\n",
       "      <td>eth</td>\n",
       "      <td>Ethereum</td>\n",
       "    </tr>\n",
       "    <tr>\n",
       "      <th>3868</th>\n",
       "      <td>litecoin</td>\n",
       "      <td>ltc</td>\n",
       "      <td>Litecoin</td>\n",
       "    </tr>\n",
       "    <tr>\n",
       "      <th>5437</th>\n",
       "      <td>ripple</td>\n",
       "      <td>xrp</td>\n",
       "      <td>XRP</td>\n",
       "    </tr>\n",
       "  </tbody>\n",
       "</table>\n",
       "</div>"
      ],
      "text/plain": [
       "                            id symbol                      name\n",
       "831   binance-peg-bitcoin-cash    bch  Binance-Peg Bitcoin Cash\n",
       "836       binance-peg-litecoin    ltc      Binance-Peg Litecoin\n",
       "838            binance-peg-xrp    xrp           Binance-Peg XRP\n",
       "888                    bitcoin    btc                   Bitcoin\n",
       "899               bitcoin-cash    bch              Bitcoin Cash\n",
       "2493                  ethereum    eth                  Ethereum\n",
       "3868                  litecoin    ltc                  Litecoin\n",
       "5437                    ripple    xrp                       XRP"
      ]
     },
     "execution_count": 3,
     "metadata": {},
     "output_type": "execute_result"
    }
   ],
   "source": [
    "coin_list=[\"btc\",\"eth\",\"xrp\",\"bch\",\"ltc\"]\n",
    "df_coin[df_coin.symbol.isin(coin_list)]"
   ]
  }
 ],
 "metadata": {
  "kernelspec": {
   "display_name": "Python 3",
   "language": "python",
   "name": "python3"
  },
  "language_info": {
   "codemirror_mode": {
    "name": "ipython",
    "version": 3
   },
   "file_extension": ".py",
   "mimetype": "text/x-python",
   "name": "python",
   "nbconvert_exporter": "python",
   "pygments_lexer": "ipython3",
   "version": "3.9.5"
  }
 },
 "nbformat": 4,
 "nbformat_minor": 5
}
