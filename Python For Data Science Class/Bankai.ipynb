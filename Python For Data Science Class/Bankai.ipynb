{
 "cells": [
  {
   "cell_type": "code",
   "execution_count": 32,
   "metadata": {},
   "outputs": [
    {
     "name": "stdout",
     "output_type": "stream",
     "text": [
      "Key in Grade 1\n",
      "You Got F\n"
     ]
    }
   ],
   "source": [
    "grade = input(\"Key in Grade \")\n",
    "\n",
    "if (grade.isnumeric()):\n",
    "    grade=int(grade)\n",
    "    if grade >90 and grade <=100:\n",
    "        print (\"You Got A\")\n",
    "    elif grade <=90 and grade >75:\n",
    "        print (\"You Got B\")\n",
    "    elif grade <=75 and grade >65:\n",
    "        print (\"You Got C\")\n",
    "    elif grade <=65 and grade >50:\n",
    "        print (\"You Got D\")\n",
    "    elif grade <=50 and grade >30:\n",
    "        print (\"You Got E\")\n",
    "    elif grade <=30 and grade >0:\n",
    "        print (\"You Got F\")\n",
    "else :\n",
    "    print(\"Grade Must be Numeric, Positve number or not more then 100\")\n",
    "\n",
    "\n"
   ]
  },
  {
   "cell_type": "code",
   "execution_count": 70,
   "metadata": {},
   "outputs": [
    {
     "name": "stdout",
     "output_type": "stream",
     "text": [
      "Key in Grade g\n",
      "yooo invalid literal for int() with base 10: 'g'\n"
     ]
    }
   ],
   "source": [
    "grade_input = input(\"Key in Grade \")\n",
    "grade_list=grade_input.split()\n",
    "for grade in grade_list :\n",
    "    try:\n",
    "        grade=int(grade)\n",
    "    except Exception as e:\n",
    "        print(\"yooo\", e)\n",
    "    else:\n",
    "        if grade >90 and grade <=100:\n",
    "            print (\"You Got A 😁\")\n",
    "        elif grade <=90 and grade >75:\n",
    "            print (\"You Got B 😀\")\n",
    "        elif grade <=75 and grade >65:\n",
    "            print (\"You Got C 😉\")\n",
    "        elif grade <=65 and grade >50:\n",
    "            print (\"You Got D 😶\")\n",
    "        elif grade <=50 and grade >30:\n",
    "            print (\"You Got E 😥\")\n",
    "        elif grade <=30 and grade >0:\n",
    "            print (\"You Got F 😡\")\n",
    "        else :\n",
    "            print(\"Positve number or not more then 100\")\n",
    "\n"
   ]
  },
  {
   "cell_type": "code",
   "execution_count": 46,
   "metadata": {},
   "outputs": [
    {
     "data": {
      "text/plain": [
       "'You Got A 😁 for HISTORY'"
      ]
     },
     "execution_count": 46,
     "metadata": {},
     "output_type": "execute_result"
    }
   ],
   "source": [
    "def grade_function(grade,subject):\n",
    "        if (grade.isnumeric()):\n",
    "            grade=int(grade)\n",
    "            if grade >90 and grade <=100:\n",
    "                return (f\"You Got A 😁 for {subject}\")\n",
    "            elif grade <=90 and grade >75:\n",
    "                return (f\"You Got B 😀 for {subject}\")\n",
    "            elif grade <=75 and grade >65:\n",
    "                return (f\"You Got C 😉 for {subject}\")\n",
    "            elif grade <=65 and grade >50:\n",
    "                return (f\"You Got D 😶 for {subject}\")\n",
    "            elif grade <=50 and grade >30:\n",
    "                return (f\"You Got E 😥 for {subject}\")\n",
    "            elif grade <=30 and grade >0:\n",
    "                return (f\"You Got F 😡 for {subject}\")\n",
    "        else :\n",
    "            return (\"Grade Must be Numeric, Positve number or not more then 100\")\n",
    "\n",
    "grade_function(\"100\",\"HISTORY\")"
   ]
  },
  {
   "cell_type": "code",
   "execution_count": 47,
   "metadata": {},
   "outputs": [
    {
     "name": "stdout",
     "output_type": "stream",
     "text": [
      "Key in Mark and Subject :10 History\n"
     ]
    },
    {
     "data": {
      "text/plain": [
       "'You Got F 😡 for History'"
      ]
     },
     "execution_count": 47,
     "metadata": {},
     "output_type": "execute_result"
    }
   ],
   "source": [
    "subject_mark=input (\"Key in Mark and Subject :\").split()\n",
    "grade_function(subject_mark[0],subject_mark[1])"
   ]
  },
  {
   "cell_type": "code",
   "execution_count": 49,
   "metadata": {},
   "outputs": [
    {
     "data": {
      "text/plain": [
       "25"
      ]
     },
     "execution_count": 49,
     "metadata": {},
     "output_type": "execute_result"
    }
   ],
   "source": [
    "square = lambda x: x**2\n",
    "\n",
    "square (5)"
   ]
  },
  {
   "cell_type": "markdown",
   "metadata": {},
   "source": [
    "## list comprehension\n",
    "\n",
    "### basic formula \n",
    "- [***Expression*** for element in interable]\n",
    "\n",
    "### Conditional formula\n",
    "\n",
    "\n",
    "- [***Expression*** for element if condition]"
   ]
  },
  {
   "cell_type": "code",
   "execution_count": 50,
   "metadata": {},
   "outputs": [
    {
     "data": {
      "text/plain": [
       "[1, 4, 9]"
      ]
     },
     "execution_count": 50,
     "metadata": {},
     "output_type": "execute_result"
    }
   ],
   "source": [
    "[x**2 for x in [1,2,3]]"
   ]
  },
  {
   "cell_type": "code",
   "execution_count": 63,
   "metadata": {},
   "outputs": [
    {
     "name": "stdout",
     "output_type": "stream",
     "text": [
      "4\n",
      "16\n",
      "36\n"
     ]
    },
    {
     "data": {
      "text/plain": [
       "[1, None, 3, None, 5, None]"
      ]
     },
     "execution_count": 63,
     "metadata": {},
     "output_type": "execute_result"
    }
   ],
   "source": [
    "[print(x**2) if x%2==0 else x for x in [1,2,3,4,5,6]]"
   ]
  },
  {
   "cell_type": "markdown",
   "metadata": {},
   "source": [
    "# Generator Expression\n",
    "- (expression for element in iterable)"
   ]
  },
  {
   "cell_type": "code",
   "execution_count": 78,
   "metadata": {},
   "outputs": [
    {
     "name": "stdout",
     "output_type": "stream",
     "text": [
      "1\n",
      "4\n",
      "9\n",
      "16\n",
      "25\n",
      "36\n",
      "\n"
     ]
    }
   ],
   "source": [
    "ge_square=(x**2 for x in (1,2,3,4,5,6))\n",
    "try:\n",
    "    print(next(ge_square))\n",
    "    print(next(ge_square))\n",
    "    print(next(ge_square))\n",
    "    print(next(ge_square))\n",
    "    print(next(ge_square))\n",
    "    print(next(ge_square))\n",
    "    print(next(ge_square))\n",
    "    print(next(ge_square))\n",
    "    print(next(ge_square))\n",
    "    print(next(ge_square))\n",
    "    print(next(ge_square))\n",
    "    print(next(ge_square))\n",
    "    print(next(ge_square))\n",
    "    print(next(ge_square))\n",
    "except Exception as e:\n",
    "    print (e)"
   ]
  },
  {
   "cell_type": "code",
   "execution_count": 95,
   "metadata": {},
   "outputs": [
    {
     "ename": "SyntaxError",
     "evalue": "invalid syntax (<ipython-input-95-200a71dc4372>, line 3)",
     "output_type": "error",
     "traceback": [
      "\u001b[1;36m  File \u001b[1;32m\"<ipython-input-95-200a71dc4372>\"\u001b[1;36m, line \u001b[1;32m3\u001b[0m\n\u001b[1;33m    gg=(print i for i in teststring)\u001b[0m\n\u001b[1;37m              ^\u001b[0m\n\u001b[1;31mSyntaxError\u001b[0m\u001b[1;31m:\u001b[0m invalid syntax\n"
     ]
    }
   ],
   "source": [
    "teststring = \"Testing abcdef\"\n",
    "\n",
    "gg=(print i for i in teststring)\n"
   ]
  },
  {
   "cell_type": "code",
   "execution_count": null,
   "metadata": {},
   "outputs": [],
   "source": []
  }
 ],
 "metadata": {
  "kernelspec": {
   "display_name": "Python 3",
   "language": "python",
   "name": "python3"
  },
  "language_info": {
   "codemirror_mode": {
    "name": "ipython",
    "version": 3
   },
   "file_extension": ".py",
   "mimetype": "text/x-python",
   "name": "python",
   "nbconvert_exporter": "python",
   "pygments_lexer": "ipython3",
   "version": "3.7.9"
  }
 },
 "nbformat": 4,
 "nbformat_minor": 4
}
