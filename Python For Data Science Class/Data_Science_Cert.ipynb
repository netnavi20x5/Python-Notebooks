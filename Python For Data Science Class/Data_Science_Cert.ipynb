{
  "nbformat": 4,
  "nbformat_minor": 0,
  "metadata": {
    "colab": {
      "name": "Data Science Cert",
      "provenance": [],
      "collapsed_sections": [],
      "toc_visible": true
    },
    "kernelspec": {
      "display_name": "Python 3",
      "name": "python3"
    },
    "language_info": {
      "name": "python"
    }
  },
  "cells": [
    {
      "cell_type": "markdown",
      "metadata": {
        "id": "ijs7triLBYMy"
      },
      "source": [
        "#Hello world HEader 1\n",
        "## HEader 2\n",
        "\n",
        "~##Faridilakmal Notebook~\n",
        "\n",
        "- List\n",
        "- list \n",
        "\n",
        "1. Number \n",
        "2. Point 2\n"
      ]
    },
    {
      "cell_type": "code",
      "metadata": {
        "colab": {
          "base_uri": "https://localhost:8080/"
        },
        "id": "1HSR-SULF4x_",
        "outputId": "c3e910f3-e7ab-4e9d-b269-9cfac0a5e0a9"
      },
      "source": [
        "var1=1\n",
        "var2=2\n",
        "var3=3\n",
        "var1+\\\n",
        "var2+\\\n",
        "var3"
      ],
      "execution_count": null,
      "outputs": [
        {
          "output_type": "execute_result",
          "data": {
            "text/plain": [
              "6"
            ]
          },
          "metadata": {
            "tags": []
          },
          "execution_count": 4
        }
      ]
    },
    {
      "cell_type": "code",
      "metadata": {
        "colab": {
          "base_uri": "https://localhost:8080/"
        },
        "id": "vhmmlZv8KLnS",
        "outputId": "239b0326-bfa8-4469-f299-5cebf2a0f63c"
      },
      "source": [
        "people = [\"Farid\",\"Akmal\",\"bin\",\"Mohd Riduan\",10,10,False]\n",
        "len(people)\n",
        "people [1]\n",
        "people [4]+people[5]\n",
        "people.count(10)\n",
        "people.append(\"KIK\")\n",
        "people.append(\"Watch HD\")\n",
        "#people.clear()\n",
        "people.reverse()\n",
        "people.insert(1,\"PPPP\")\n",
        "people.insert(2,\"people\")\n",
        "people [1]=\"AA\"\n",
        "people [:]\n",
        "people2=people [:]\n",
        "people2[1]=\"ddd\"\n",
        "people3=people.copy()\n",
        "people3[1]=1\n",
        "\n",
        "print(people)\n",
        "print(people2)\n",
        "print(people3)"
      ],
      "execution_count": null,
      "outputs": [
        {
          "output_type": "stream",
          "text": [
            "['Watch HD', 'AA', 'people', 'KIK', False, 10, 10, 'Mohd Riduan', 'bin', 'Akmal', 'Farid']\n",
            "['Watch HD', 'ddd', 'people', 'KIK', False, 10, 10, 'Mohd Riduan', 'bin', 'Akmal', 'Farid']\n",
            "['Watch HD', 1, 'people', 'KIK', False, 10, 10, 'Mohd Riduan', 'bin', 'Akmal', 'Farid']\n"
          ],
          "name": "stdout"
        }
      ]
    },
    {
      "cell_type": "code",
      "metadata": {
        "colab": {
          "base_uri": "https://localhost:8080/"
        },
        "id": "NMowWbK9Q-Go",
        "outputId": "8cfcacb9-a4e7-4d3f-fec0-1656e3f3c2f4"
      },
      "source": [
        "people_tuple=(\"test\",\"lol\")\n",
        "people_tuple.count(\"test\")\n",
        "people_tuple.index(\"lol\")\n",
        "people_tuple=people_tuple*4\n",
        "people_tuple\n",
        "\n",
        "#people_tuple"
      ],
      "execution_count": null,
      "outputs": [
        {
          "output_type": "execute_result",
          "data": {
            "text/plain": [
              "('test', 'lol', 'test', 'lol', 'test', 'lol', 'test', 'lol')"
            ]
          },
          "metadata": {
            "tags": []
          },
          "execution_count": 82
        }
      ]
    },
    {
      "cell_type": "code",
      "metadata": {
        "colab": {
          "base_uri": "https://localhost:8080/"
        },
        "id": "dIJeBPWMTVaZ",
        "outputId": "4692262d-cc69-4652-bb5b-c3a37343503c"
      },
      "source": [
        "a=[1,2,3,4,5,6,7,8,9,1,0]\n",
        "\n",
        "print(a.count(1))\n",
        "print(min(a))\n",
        "print(max(a))\n",
        "print(sum(a))"
      ],
      "execution_count": null,
      "outputs": [
        {
          "output_type": "stream",
          "text": [
            "2\n",
            "0\n",
            "9\n",
            "46\n"
          ],
          "name": "stdout"
        }
      ]
    },
    {
      "cell_type": "code",
      "metadata": {
        "colab": {
          "base_uri": "https://localhost:8080/"
        },
        "id": "UulCL83YWb84",
        "outputId": "339bcca4-9c01-4b16-a5cc-d18bb383cded"
      },
      "source": [
        "b=(0,1,2,3,4,5,6,7,8,9,10,11)\n",
        "length=int(len(b))\n",
        "half=int(len(b)/2)\n",
        "print(b[0:half])\n",
        "print(b[half:length])\n"
      ],
      "execution_count": null,
      "outputs": [
        {
          "output_type": "stream",
          "text": [
            "(0, 1, 2, 3, 4, 5)\n",
            "(6, 7, 8, 9, 10, 11)\n"
          ],
          "name": "stdout"
        }
      ]
    },
    {
      "cell_type": "code",
      "metadata": {
        "colab": {
          "base_uri": "https://localhost:8080/"
        },
        "id": "zdSEdUF1YVHu",
        "outputId": "d079f52f-b260-4b78-dcff-5135a7fa75f0"
      },
      "source": [
        "dict1=dict(a=1,b=2)\n",
        "dict2={\"name\":[\"Faridil\",\"akmal\"],\"kokoro\":5}\n",
        "dict2[\"name\"]=\"Captain America\"\n",
        "dict2[\"name2\"]=\"John Walker\"\n",
        "dict2[\"name3\"]=\"Captain America2\"\n",
        "dict2[\"name4\"]=\"\"\"Falcon\n",
        "and the winter \n",
        "\"\"\"\n",
        "del dict2[\"name4\"]\n",
        "dict2.keys()\n",
        "dict2.values()\n",
        "dict2.items()"
      ],
      "execution_count": null,
      "outputs": [
        {
          "output_type": "execute_result",
          "data": {
            "text/plain": [
              "dict_items([('name', 'Captain America'), ('kokoro', 5), ('name2', 'John Walker'), ('name3', 'Captain America2')])"
            ]
          },
          "metadata": {
            "tags": []
          },
          "execution_count": 126
        }
      ]
    },
    {
      "cell_type": "code",
      "metadata": {
        "colab": {
          "base_uri": "https://localhost:8080/"
        },
        "id": "KhlgNSL6b2VZ",
        "outputId": "bfba30bd-ee77-4b4f-cfb7-c968073bf1e9"
      },
      "source": [
        "set_a={1,2,3,3,3,4,5}\n",
        "set_b={6,7,8,9,10,1,2,3}\n",
        "set_c={1,2,3}\n",
        "len(set_a)\n",
        "set_a.difference(set_b)\n",
        "#set_a.intersection(set_b)\n",
        "set_a.symmetric_difference(set_b)\n",
        "set_a.union(set_b)\n",
        "set_a.issuperset(set_c)\n",
        "set_c.issubset(set_a)\n",
        "set_a."
      ],
      "execution_count": null,
      "outputs": [
        {
          "output_type": "execute_result",
          "data": {
            "text/plain": [
              "True"
            ]
          },
          "metadata": {
            "tags": []
          },
          "execution_count": 152
        }
      ]
    },
    {
      "cell_type": "code",
      "metadata": {
        "colab": {
          "base_uri": "https://localhost:8080/"
        },
        "id": "-VG3ri5LYgAs",
        "outputId": "84c47a1e-21dd-4f39-cc5b-06e66a050a4f"
      },
      "source": [
        "py_string=\"\"\"\n",
        "hellO woRld\n",
        "zaword\n",
        "Horahora\n",
        "\"\"\"\n",
        "py_string.capitalize()\n",
        "py_string.casefold()\n",
        "py_string.isspace()\n",
        "py_string in \"hellO\"\n",
        "test=py_string.split(\"\\n\")\n",
        "test[0].isspace()"
      ],
      "execution_count": null,
      "outputs": [
        {
          "output_type": "execute_result",
          "data": {
            "text/plain": [
              "False"
            ]
          },
          "metadata": {
            "tags": []
          },
          "execution_count": 170
        }
      ]
    },
    {
      "cell_type": "code",
      "metadata": {
        "id": "AlvOrCx1emsS"
      },
      "source": [
        "q"
      ],
      "execution_count": null,
      "outputs": []
    },
    {
      "cell_type": "code",
      "metadata": {
        "colab": {
          "base_uri": "https://localhost:8080/"
        },
        "id": "xRE1dtPijCcf",
        "outputId": "9d79c8a5-a71e-4c0a-af2f-62887a85407e"
      },
      "source": [
        "text=\"\"\"From stephen.marquard@uct.ac.za Sat Jan  5 09:14:16 2008\n",
        "Return-Path: <postmaster@collab.sakaiproject.org>\n",
        "Received: from murder (mail.umich.edu [141.211.14.90])\n",
        "\t by frankenstein.mail.umich.edu (Cyrus v2.3.8) with LMTPA;\n",
        "\t Sat, 05 Jan 2008 09:14:16 -0500\n",
        "X-Sieve: CMU Sieve 2.3\n",
        "Received: from murder ([unix socket])\n",
        "\t by mail.umich.edu (Cyrus v2.2.12) with LMTPA;\n",
        "\t Sat, 05 Jan 2008 09:14:16 -0500\n",
        "Received: from holes.mr.itd.umich.edu (holes.mr.itd.umich.edu [141.211.14.79])\n",
        "\tby flawless.mail.umich.edu () with ESMTP id m05EEFR1013674;\n",
        "\tSat, 5 Jan 2008 09:14:15 -0500\n",
        "Received: FROM paploo.uhi.ac.uk (app1.prod.collab.uhi.ac.uk [194.35.219.184])\n",
        "\tBY holes.mr.itd.umich.edu ID 477F90B0.2DB2F.12494 ; \n",
        "\t 5 Jan 2008 09:14:10 -0500\n",
        "Received: from paploo.uhi.ac.uk (localhost [127.0.0.1])\n",
        "\tby paploo.uhi.ac.uk (Postfix) with ESMTP id 5F919BC2F2;\n",
        "\tSat,  5 Jan 2008 14:10:05 +0000 (GMT)\n",
        "Message-ID: <200801051412.m05ECIaH010327@nakamura.uits.iupui.edu>\n",
        "Mime-Version: 1.0\n",
        "Content-Transfer-Encoding: 7bit\n",
        "Received: from prod.collab.uhi.ac.uk ([194.35.219.182])\n",
        "          by paploo.uhi.ac.uk (JAMES SMTP Server 2.1.3) with SMTP ID 899\n",
        "          for <source@collab.sakaiproject.org>;\n",
        "          Sat, 5 Jan 2008 14:09:50 +0000 (GMT)\n",
        "Received: from nakamura.uits.iupui.edu (nakamura.uits.iupui.edu [134.68.220.122])\n",
        "\tby shmi.uhi.ac.uk (Postfix) with ESMTP id A215243002\n",
        "\tfor <source@collab.sakaiproject.org>; Sat,  5 Jan 2008 14:13:33 +0000 (GMT)\n",
        "Received: from nakamura.uits.iupui.edu (localhost [127.0.0.1])\n",
        "\tby nakamura.uits.iupui.edu (8.12.11.20060308/8.12.11) with ESMTP id m05ECJVp010329\n",
        "\tfor <source@collab.sakaiproject.org>; Sat, 5 Jan 2008 09:12:19 -0500\n",
        "Received: (from apache@localhost)\n",
        "\tby nakamura.uits.iupui.edu (8.12.11.20060308/8.12.11/Submit) id m05ECIaH010327\n",
        "\tfor source@collab.sakaiproject.org; Sat, 5 Jan 2008 09:12:18 -0500\n",
        "Date: Sat, 5 Jan 2008 09:12:18 -0500\n",
        "X-Authentication-Warning: nakamura.uits.iupui.edu: apache set sender to stephen.marquard@uct.ac.za using -f\n",
        "To: source@collab.sakaiproject.org\n",
        "From: stephen.marquard@uct.ac.za\n",
        "Subject: [sakai] svn commit: r39772 - content/branches/sakai_2-5-x/content-impl/impl/src/java/org/sakaiproject/content/impl\n",
        "X-Content-Type-Outer-Envelope: text/plain; charset=UTF-8\n",
        "X-Content-Type-Message-Body: text/plain; charset=UTF-8\n",
        "Content-Type: text/plain; charset=UTF-8\n",
        "X-DSPAM-Result: Innocent\n",
        "X-DSPAM-Processed: Sat Jan  5 09:14:16 2008\n",
        "X-DSPAM-Confidence: 0.8475\n",
        "X-DSPAM-Probability: 0.0000\n",
        "\n",
        "Details: http://source.sakaiproject.org/viewsvn/?view=rev&rev=39772\n",
        "\n",
        "Author: stephen.marquard@uct.ac.za\n",
        "Date: 2008-01-05 09:12:07 -0500 (Sat, 05 Jan 2008)\n",
        "New Revision: 39772\n",
        "\n",
        "Modified:\n",
        "content/branches/sakai_2-5-x/content-impl/impl/src/java/org/sakaiproject/content/impl/ContentServiceSqlOracle.java\n",
        "content/branches/sakai_2-5-x/content-impl/impl/src/java/org/sakaiproject/content/impl/DbContentService.java\n",
        "Log:\n",
        "SAK-12501 merge to 2-5-x: r39622, r39624:5, r39632:3 (resolve conflict from differing linebreaks for r39622)\n",
        "\n",
        "----------------------\n",
        "This automatic notification message was sent by Sakai Collab (https://collab.sakaiproject.org/portal) from the Source site.\n",
        "You can modify how you receive notifications at My Workspace > Preferences.\n",
        "\n",
        "\n",
        "\n",
        "From louis@media.berkeley.edu Fri Jan  4 18:10:48 2008\n",
        "Return-Path: <postmaster@collab.sakaiproject.org>\n",
        "Received: from murder (mail.umich.edu [141.211.14.97])\n",
        "\t by frankenstein.mail.umich.edu (Cyrus v2.3.8) with LMTPA;\n",
        "\t Fri, 04 Jan 2008 18:10:48 -0500\n",
        "X-Sieve: CMU Sieve 2.3\n",
        "Received: from murder ([unix socket])\n",
        "\t by mail.umich.edu (Cyrus v2.2.12) with LMTPA;\n",
        "\t Fri, 04 Jan 2008 18:10:48 -0500\n",
        "Received: from icestorm.mr.itd.umich.edu (icestorm.mr.itd.umich.edu [141.211.93.149])\n",
        "\tby sleepers.mail.umich.edu () with ESMTP id m04NAbGa029441;\n",
        "\tFri, 4 Jan 2008 18:10:37 -0500\n",
        "Received: FROM paploo.uhi.ac.uk (app1.prod.collab.uhi.ac.uk [194.35.219.184])\n",
        "\tBY icestorm.mr.itd.umich.edu ID 477EBCE3.161BB.4320 ; \n",
        "\t 4 Jan 2008 18:10:31 -0500\n",
        "Received: from paploo.uhi.ac.uk (localhost [127.0.0.1])\n",
        "\tby paploo.uhi.ac.uk (Postfix) with ESMTP id 07969BB706;\n",
        "\tFri,  4 Jan 2008 23:10:33 +0000 (GMT)\n",
        "Message-ID: <200801042308.m04N8v6O008125@nakamura.uits.iupui.edu>\n",
        "Mime-Version: 1.0\n",
        "Content-Transfer-Encoding: 7bit\n",
        "Received: from prod.collab.uhi.ac.uk ([194.35.219.182])\n",
        "          by paploo.uhi.ac.uk (JAMES SMTP Server 2.1.3) with SMTP ID 710\n",
        "          for <source@collab.sakaiproject.org>;\n",
        "          Fri, 4 Jan 2008 23:10:10 +0000 (GMT)\n",
        "Received: from nakamura.uits.iupui.edu (nakamura.uits.iupui.edu [134.68.220.122])\n",
        "\tby shmi.uhi.ac.uk (Postfix) with ESMTP id 4BA2F42F57\n",
        "\tfor <source@collab.sakaiproject.org>; Fri,  4 Jan 2008 23:10:10 +0000 (GMT)\n",
        "Received: from nakamura.uits.iupui.edu (localhost [127.0.0.1])\n",
        "\tby nakamura.uits.iupui.edu (8.12.11.20060308/8.12.11) with ESMTP id m04N8vHG008127\n",
        "\tfor <source@collab.sakaiproject.org>; Fri, 4 Jan 2008 18:08:57 -0500\n",
        "Received: (from apache@localhost)\n",
        "\tby nakamura.uits.iupui.edu (8.12.11.20060308/8.12.11/Submit) id m04N8v6O008125\n",
        "\tfor source@collab.sakaiproject.org; Fri, 4 Jan 2008 18:08:57 -0500\n",
        "Date: Fri, 4 Jan 2008 18:08:57 -0500\n",
        "X-Authentication-Warning: nakamura.uits.iupui.edu: apache set sender to louis@media.berkeley.edu using -f\n",
        "To: source@collab.sakaiproject.org\n",
        "From: louis@media.berkeley.edu\n",
        "Subject: [sakai] svn commit: r39771 - in bspace/site-manage/sakai_2-4-x/site-manage-tool/tool/src: bundle java/org/sakaiproject/site/tool\n",
        "X-Content-Type-Outer-Envelope: text/plain; charset=UTF-8\n",
        "X-Content-Type-Message-Body: text/plain; charset=UTF-8\n",
        "Content-Type: text/plain; charset=UTF-8\n",
        "X-DSPAM-Result: Innocent\n",
        "X-DSPAM-Processed: Fri Jan  4 18:10:48 2008\n",
        "X-DSPAM-Confidence: 0.6178\n",
        "X-DSPAM-Probability: 0.0000\n",
        "\n",
        "Details: http://source.sakaiproject.org/viewsvn/?view=rev&rev=39771\n",
        "\n",
        "Author: louis@media.berkeley.edu\n",
        "Date: 2008-01-04 18:08:50 -0500 (Fri, 04 Jan 2008)\n",
        "New Revision: 39771\n",
        "\n",
        "Modified:\n",
        "bspace/site-manage/sakai_2-4-x/site-manage-tool/tool/src/bundle/sitesetupgeneric.properties\n",
        "bspace/site-manage/sakai_2-4-x/site-manage-tool/tool/src/java/org/sakaiproject/site/tool/SiteAction.java\n",
        "Log:\n",
        "BSP-1415 New (Guest) user Notification\n",
        "\n",
        "----------------------\n",
        "This automatic notification message was sent by Sakai Collab (https://collab.sakaiproject.org/portal) from the Source site.\n",
        "You can modify how you receive notifications at My Workspace > Preferences.\n",
        "\n",
        "\n",
        "\n",
        "From zqian@umich.edu Fri Jan  4 16:10:39 2008\n",
        "Return-Path: <postmaster@collab.sakaiproject.org>\n",
        "Received: from murder (mail.umich.edu [141.211.14.25])\n",
        "\t by frankenstein.mail.umich.edu (Cyrus v2.3.8) with LMTPA;\n",
        "\t Fri, 04 Jan 2008 16:10:39 -0500\n",
        "X-Sieve: CMU Sieve 2.3\n",
        "Received: from murder ([unix socket])\n",
        "\t by mail.umich.edu (Cyrus v2.2.12) with LMTPA;\n",
        "\t Fri, 04 Jan 2008 16:10:39 -0500\n",
        "Received: from ghostbusters.mr.itd.umich.edu (ghostbusters.mr.itd.umich.edu [141.211.93.144])\n",
        "\tby panther.mail.umich.edu () with ESMTP id m04LAcZw014275;\n",
        "\tFri, 4 Jan 2008 16:10:38 -0500\n",
        "Received: FROM paploo.uhi.ac.uk (app1.prod.collab.uhi.ac.uk [194.35.219.184])\n",
        "\tBY ghostbusters.mr.itd.umich.edu ID 477EA0C6.A0214.25480 ; \n",
        "\t 4 Jan 2008 16:10:33 -0500\n",
        "Received: from paploo.uhi.ac.uk (localhost [127.0.0.1])\n",
        "\tby paploo.uhi.ac.uk (Postfix) with ESMTP id C48CDBB490;\n",
        "\tFri,  4 Jan 2008 21:10:31 +0000 (GMT)\n",
        "Message-ID: <200801042109.m04L92hb007923@nakamura.uits.iupui.edu>\n",
        "Mime-Version: 1.0\n",
        "Content-Transfer-Encoding: 7bit\n",
        "Received: from prod.collab.uhi.ac.uk ([194.35.219.182])\n",
        "          by paploo.uhi.ac.uk (JAMES SMTP Server 2.1.3) with SMTP ID 906\n",
        "          for <source@collab.sakaiproject.org>;\n",
        "          Fri, 4 Jan 2008 21:10:18 +0000 (GMT)\n",
        "Received: from nakamura.uits.iupui.edu (nakamura.uits.iupui.edu [134.68.220.122])\n",
        "\tby shmi.uhi.ac.uk (Postfix) with ESMTP id 7D13042F71\n",
        "\tfor <source@collab.sakaiproject.org>; Fri,  4 Jan 2008 21:10:14 +0000 (GMT)\n",
        "Received: from nakamura.uits.iupui.edu (localhost [127.0.0.1])\n",
        "\tby nakamura.uits.iupui.edu (8.12.11.20060308/8.12.11) with ESMTP id m04L927E007925\n",
        "\tfor <source@collab.sakaiproject.org>; Fri, 4 Jan 2008 16:09:02 -0500\n",
        "Received: (from apache@localhost)\n",
        "\tby nakamura.uits.iupui.edu (8.12.11.20060308/8.12.11/Submit) id m04L92hb007923\n",
        "\tfor source@collab.sakaiproject.org; Fri, 4 Jan 2008 16:09:02 -0500\n",
        "Date: Fri, 4 Jan 2008 16:09:02 -0500\n",
        "X-Authentication-Warning: nakamura.uits.iupui.edu: apache set sender to zqian@umich.edu using -f\n",
        "To: source@collab.sakaiproject.org\n",
        "From: zqian@umich.edu\n",
        "Subject: [sakai] svn commit: r39770 - site-manage/branches/sakai_2-5-x/site-manage-tool/tool/src/webapp/vm/sitesetup\n",
        "X-Content-Type-Outer-Envelope: text/plain; charset=UTF-8\n",
        "X-Content-Type-Message-Body: text/plain; charset=UTF-8\n",
        "Content-Type: text/plain; charset=UTF-8\n",
        "X-DSPAM-Result: Innocent\n",
        "X-DSPAM-Processed: Fri Jan  4 16:10:39 2008\n",
        "X-DSPAM-Confidence: 0.6961\n",
        "X-DSPAM-Probability: 0.0000\n",
        "\n",
        "Details: http://source.sakaiproject.org/viewsvn/?view=rev&rev=39770\n",
        "\n",
        "Author: zqian@umich.edu\n",
        "Date: 2008-01-04 16:09:01 -0500 (Fri, 04 Jan 2008)\n",
        "New Revision: 39770\n",
        "\n",
        "Modified:\n",
        "site-manage/branches/sakai_2-5-x/site-manage-tool/tool/src/webapp/vm/sitesetup/chef_site-siteInfo-list.vm\n",
        "Log:\n",
        "merge fix to SAK-9996 into 2-5-x branch: svn merge -r 39687:39688 https://source.sakaiproject.org/svn/site-manage/trunk/\n",
        "\n",
        "----------------------\n",
        "This automatic notification message was sent by Sakai Collab (https://collab.sakaiproject.org/portal) from the Source site.\n",
        "You can modify how you receive notifications at My Workspace > Preferences.\n",
        "\n",
        "\n",
        "\n",
        "From rjlowe@iupui.edu Fri Jan  4 15:46:24 2008\n",
        "Return-Path: <postmaster@collab.sakaiproject.org>\n",
        "Received: from murder (mail.umich.edu [141.211.14.25])\n",
        "\t by frankenstein.mail.umich.edu (Cyrus v2.3.8) with LMTPA;\n",
        "\t Fri, 04 Jan 2008 15:46:24 -0500\n",
        "X-Sieve: CMU Sieve 2.3\n",
        "Received: from murder ([unix socket])\n",
        "\t by mail.umich.edu (Cyrus v2.2.12) with LMTPA;\n",
        "\t Fri, 04 Jan 2008 15:46:24 -0500\n",
        "Received: from dreamcatcher.mr.itd.umich.edu (dreamcatcher.mr.itd.umich.edu [141.211.14.43])\n",
        "\tby panther.mail.umich.edu () with ESMTP id m04KkNbx032077;\n",
        "\tFri, 4 Jan 2008 15:46:23 -0500\n",
        "Received: FROM paploo.uhi.ac.uk (app1.prod.collab.uhi.ac.uk [194.35.219.184])\n",
        "\tBY dreamcatcher.mr.itd.umich.edu ID 477E9B13.2F3BC.22965 ; \n",
        "\t 4 Jan 2008 15:46:13 -0500\n",
        "Received: from paploo.uhi.ac.uk (localhost [127.0.0.1])\n",
        "\tby paploo.uhi.ac.uk (Postfix) with ESMTP id 4AE03BB552;\n",
        "\tFri,  4 Jan 2008 20:46:13 +0000 (GMT)\n",
        "Message-ID: <200801042044.m04Kiem3007881@nakamura.uits.iupui.edu>\n",
        "Mime-Version: 1.0\n",
        "Content-Transfer-Encoding: 7bit\n",
        "Received: from prod.collab.uhi.ac.uk ([194.35.219.182])\n",
        "          by paploo.uhi.ac.uk (JAMES SMTP Server 2.1.3) with SMTP ID 38\n",
        "          for <source@collab.sakaiproject.org>;\n",
        "          Fri, 4 Jan 2008 20:45:56 +0000 (GMT)\n",
        "Received: from nakamura.uits.iupui.edu (nakamura.uits.iupui.edu [134.68.220.122])\n",
        "\tby shmi.uhi.ac.uk (Postfix) with ESMTP id A55D242F57\n",
        "\tfor <source@collab.sakaiproject.org>; Fri,  4 Jan 2008 20:45:52 +0000 (GMT)\n",
        "Received: from nakamura.uits.iupui.edu (localhost [127.0.0.1])\n",
        "\tby nakamura.uits.iupui.edu (8.12.11.20060308/8.12.11) with ESMTP id m04KieqE007883\n",
        "\tfor <source@collab.sakaiproject.org>; Fri, 4 Jan 2008 15:44:40 -0500\n",
        "Received: (from apache@localhost)\n",
        "\tby nakamura.uits.iupui.edu (8.12.11.20060308/8.12.11/Submit) id m04Kiem3007881\n",
        "\tfor source@collab.sakaiproject.org; Fri, 4 Jan 2008 15:44:40 -0500\n",
        "Date: Fri, 4 Jan 2008 15:44:40 -0500\n",
        "X-Authentication-Warning: nakamura.uits.iupui.edu: apache set sender to rjlowe@iupui.edu using -f\n",
        "To: source@collab.sakaiproject.org\n",
        "From: rjlowe@iupui.edu\n",
        "Subject: [sakai] svn commit: r39769 - in gradebook/trunk/app/ui/src: java/org/sakaiproject/tool/gradebook/ui/helpers/beans java/org/sakaiproject/tool/gradebook/ui/helpers/producers webapp/WEB-INF webapp/WEB-INF/bundle\n",
        "X-Content-Type-Outer-Envelope: text/plain; charset=UTF-8\n",
        "X-Content-Type-Message-Body: text/plain; charset=UTF-8\n",
        "Content-Type: text/plain; charset=UTF-8\n",
        "X-DSPAM-Result: Innocent\n",
        "X-DSPAM-Processed: Fri Jan  4 15:46:24 2008\n",
        "X-DSPAM-Confidence: 0.7565\n",
        "X-DSPAM-Probability: 0.0000\n",
        "\n",
        "Details: http://source.sakaiproject.org/viewsvn/?view=rev&rev=39769\n",
        "\n",
        "Author: rjlowe@iupui.edu\n",
        "Date: 2008-01-04 15:44:39 -0500 (Fri, 04 Jan 2008)\n",
        "New Revision: 39769\n",
        "\n",
        "Modified:\n",
        "gradebook/trunk/app/ui/src/java/org/sakaiproject/tool/gradebook/ui/helpers/beans/AssignmentGradeRecordBean.java\n",
        "gradebook/trunk/app/ui/src/java/org/sakaiproject/tool/gradebook/ui/helpers/producers/GradeGradebookItemProducer.java\n",
        "gradebook/trunk/app/ui/src/webapp/WEB-INF/applicationContext.xml\n",
        "gradebook/trunk/app/ui/src/webapp/WEB-INF/bundle/messages.properties\n",
        "gradebook/trunk/app/ui/src/webapp/WEB-INF/requestContext.xml\n",
        "Log:\n",
        "SAK-12180 - Fixed errors with grading helper\n",
        "\n",
        "----------------------\n",
        "This automatic notification message was sent by Sakai Collab (https://collab.sakaiproject.org/portal) from the Source site.\n",
        "You can modify how you receive notifications at My Workspace > Preferences.\n",
        "\n",
        "\n",
        "\n",
        "From zqian@umich.edu Fri Jan  4 15:03:18 2008\n",
        "Return-Path: <postmaster@collab.sakaiproject.org>\n",
        "Received: from murder (mail.umich.edu [141.211.14.46])\n",
        "\t by frankenstein.mail.umich.edu (Cyrus v2.3.8) with LMTPA;\n",
        "\t Fri, 04 Jan 2008 15:03:18 -0500\n",
        "X-Sieve: CMU Sieve 2.3\n",
        "Received: from murder ([unix socket])\n",
        "\t by mail.umich.edu (Cyrus v2.2.12) with LMTPA;\n",
        "\t Fri, 04 Jan 2008 15:03:18 -0500\n",
        "Received: from firestarter.mr.itd.umich.edu (firestarter.mr.itd.umich.edu [141.211.14.83])\n",
        "\tby fan.mail.umich.edu () with ESMTP id m04K3HGF006563;\n",
        "\tFri, 4 Jan 2008 15:03:17 -0500\n",
        "Received: FROM paploo.uhi.ac.uk (app1.prod.collab.uhi.ac.uk [194.35.219.184])\n",
        "\tBY firestarter.mr.itd.umich.edu ID 477E9100.8F7F4.1590 ; \n",
        "\t 4 Jan 2008 15:03:15 -0500\n",
        "Received: from paploo.uhi.ac.uk (localhost [127.0.0.1])\n",
        "\tby paploo.uhi.ac.uk (Postfix) with ESMTP id 57770BB477;\n",
        "\tFri,  4 Jan 2008 20:03:09 +0000 (GMT)\n",
        "Message-ID: <200801042001.m04K1cO0007738@nakamura.uits.iupui.edu>\n",
        "Mime-Version: 1.0\n",
        "Content-Transfer-Encoding: 7bit\n",
        "Received: from prod.collab.uhi.ac.uk ([194.35.219.182])\n",
        "          by paploo.uhi.ac.uk (JAMES SMTP Server 2.1.3) with SMTP ID 622\n",
        "          for <source@collab.sakaiproject.org>;\n",
        "          Fri, 4 Jan 2008 20:02:46 +0000 (GMT)\n",
        "Received: from nakamura.uits.iupui.edu (nakamura.uits.iupui.edu [134.68.220.122])\n",
        "\tby shmi.uhi.ac.uk (Postfix) with ESMTP id AB4D042F4D\n",
        "\tfor <source@collab.sakaiproject.org>; Fri,  4 Jan 2008 20:02:50 +0000 (GMT)\n",
        "Received: from nakamura.uits.iupui.edu (localhost [127.0.0.1])\n",
        "\tby nakamura.uits.iupui.edu (8.12.11.20060308/8.12.11) with ESMTP id m04K1cXv007740\n",
        "\tfor <source@collab.sakaiproject.org>; Fri, 4 Jan 2008 15:01:38 -0500\n",
        "Received: (from apache@localhost)\n",
        "\tby nakamura.uits.iupui.edu (8.12.11.20060308/8.12.11/Submit) id m04K1cO0007738\n",
        "\tfor source@collab.sakaiproject.org; Fri, 4 Jan 2008 15:01:38 -0500\n",
        "Date: Fri, 4 Jan 2008 15:01:38 -0500\n",
        "X-Authentication-Warning: nakamura.uits.iupui.edu: apache set sender to zqian@umich.edu using -f\n",
        "To: source@collab.sakaiproject.org\n",
        "From: zqian@umich.edu\n",
        "Subject: [sakai] svn commit: r39766 - site-manage/branches/sakai_2-4-x/site-manage-tool/tool/src/java/org/sakaiproject/site/tool\n",
        "X-Content-Type-Outer-Envelope: text/plain; charset=UTF-8\n",
        "X-Content-Type-Message-Body: text/plain; charset=UTF-8\n",
        "Content-Type: text/plain; charset=UTF-8\n",
        "X-DSPAM-Result: Innocent\n",
        "X-DSPAM-Processed: Fri Jan  4 15:03:18 2008\n",
        "X-DSPAM-Confidence: 0.7626\n",
        "X-DSPAM-Probability: 0.0000\n",
        "\n",
        "Details: http://source.sakaiproject.org/viewsvn/?view=rev&rev=39766\n",
        "\n",
        "Author: zqian@umich.edu\n",
        "Date: 2008-01-04 15:01:37 -0500 (Fri, 04 Jan 2008)\n",
        "New Revision: 39766\n",
        "\n",
        "Modified:\n",
        "site-manage/branches/sakai_2-4-x/site-manage-tool/tool/src/java/org/sakaiproject/site/tool/SiteAction.java\n",
        "Log:\n",
        "merge fix to SAK-10788 into site-manage 2.4.x branch:\n",
        "\n",
        "Sakai Source Repository  \t#38024  \tWed Nov 07 14:54:46 MST 2007  \tzqian@umich.edu  \t Fix to SAK-10788: If a provided id in a couse site is fake or doesn't provide any user information, Site Info appears to be like project site with empty participant list\n",
        "\n",
        "Watch for enrollments object being null and concatenate provider ids when there are more than one.\n",
        "Files Changed\n",
        "MODIFY /site-manage/trunk/site-manage-tool/tool/src/java/org/sakaiproject/site/tool/SiteAction.java \n",
        "\n",
        "\n",
        "\n",
        "\n",
        "----------------------\n",
        "This automatic notification message was sent by Sakai Collab (https://collab.sakaiproject.org/portal) from the Source site.\n",
        "You can modify how you receive notifications at My Workspace > Preferences.\n",
        "\n",
        "\n",
        "\n",
        "From rjlowe@iupui.edu Fri Jan  4 14:50:18 2008\n",
        "Return-Path: <postmaster@collab.sakaiproject.org>\n",
        "Received: from murder (mail.umich.edu [141.211.14.93])\n",
        "\t by frankenstein.mail.umich.edu (Cyrus v2.3.8) with LMTPA;\n",
        "\t Fri, 04 Jan 2008 14:50:18 -0500\n",
        "X-Sieve: CMU Sieve 2.3\n",
        "Received: from murder ([unix socket])\n",
        "\t by mail.umich.edu (Cyrus v2.2.12) with LMTPA;\n",
        "\t Fri, 04 Jan 2008 14:50:18 -0500\n",
        "Received: from eyewitness.mr.itd.umich.edu (eyewitness.mr.itd.umich.edu [141.211.93.142])\n",
        "\tby mission.mail.umich.edu () with ESMTP id m04JoHJi019755;\n",
        "\tFri, 4 Jan 2008 14:50:17 -0500\n",
        "Received: FROM paploo.uhi.ac.uk (app1.prod.collab.uhi.ac.uk [194.35.219.184])\n",
        "\tBY eyewitness.mr.itd.umich.edu ID 477E8DF2.67B91.5278 ; \n",
        "\t 4 Jan 2008 14:50:13 -0500\n",
        "Received: from paploo.uhi.ac.uk (localhost [127.0.0.1])\n",
        "\tby paploo.uhi.ac.uk (Postfix) with ESMTP id 2D1B9BB492;\n",
        "\tFri,  4 Jan 2008 19:47:10 +0000 (GMT)\n",
        "Message-ID: <200801041948.m04JmdwO007705@nakamura.uits.iupui.edu>\n",
        "Mime-Version: 1.0\n",
        "Content-Transfer-Encoding: 7bit\n",
        "Received: from prod.collab.uhi.ac.uk ([194.35.219.182])\n",
        "          by paploo.uhi.ac.uk (JAMES SMTP Server 2.1.3) with SMTP ID 960\n",
        "          for <source@collab.sakaiproject.org>;\n",
        "          Fri, 4 Jan 2008 19:46:50 +0000 (GMT)\n",
        "Received: from nakamura.uits.iupui.edu (nakamura.uits.iupui.edu [134.68.220.122])\n",
        "\tby shmi.uhi.ac.uk (Postfix) with ESMTP id B3E6742F4A\n",
        "\tfor <source@collab.sakaiproject.org>; Fri,  4 Jan 2008 19:49:51 +0000 (GMT)\n",
        "Received: from nakamura.uits.iupui.edu (localhost [127.0.0.1])\n",
        "\tby nakamura.uits.iupui.edu (8.12.11.20060308/8.12.11) with ESMTP id m04JmeV9007707\n",
        "\tfor <source@collab.sakaiproject.org>; Fri, 4 Jan 2008 14:48:40 -0500\n",
        "Received: (from apache@localhost)\n",
        "\tby nakamura.uits.iupui.edu (8.12.11.20060308/8.12.11/Submit) id m04JmdwO007705\n",
        "\tfor source@collab.sakaiproject.org; Fri, 4 Jan 2008 14:48:39 -0500\n",
        "Date: Fri, 4 Jan 2008 14:48:39 -0500\n",
        "X-Authentication-Warning: nakamura.uits.iupui.edu: apache set sender to rjlowe@iupui.edu using -f\n",
        "To: source@collab.sakaiproject.org\n",
        "From: rjlowe@iupui.edu\n",
        "Subject: [sakai] svn commit: r39765 - in gradebook/trunk/app: business/src/java/org/sakaiproject/tool/gradebook/business business/src/java/org/sakaiproject/tool/gradebook/business/impl ui ui/src/java/org/sakaiproject/tool/gradebook/ui/helpers/beans ui/src/java/org/sakaiproject/tool/gradebook/ui/helpers/entity ui/src/java/org/sakaiproject/tool/gradebook/ui/helpers/params ui/src/java/org/sakaiproject/tool/gradebook/ui/helpers/producers ui/src/webapp/WEB-INF ui/src/webapp/WEB-INF/bundle ui/src/webapp/content/templates\n",
        "X-Content-Type-Outer-Envelope: text/plain; charset=UTF-8\n",
        "X-Content-Type-Message-Body: text/plain; charset=UTF-8\n",
        "Content-Type: text/plain; charset=UTF-8\n",
        "X-DSPAM-Result: Innocent\n",
        "X-DSPAM-Processed: Fri Jan  4 14:50:18 2008\n",
        "X-DSPAM-Confidence: 0.7556\n",
        "X-DSPAM-Probability: 0.0000\n",
        "\n",
        "Details: http://source.sakaiproject.org/viewsvn/?view=rev&rev=39765\n",
        "\n",
        "Author: rjlowe@iupui.edu\n",
        "Date: 2008-01-04 14:48:37 -0500 (Fri, 04 Jan 2008)\n",
        "New Revision: 39765\n",
        "\n",
        "Added:\n",
        "gradebook/trunk/app/ui/src/java/org/sakaiproject/tool/gradebook/ui/helpers/beans/AssignmentGradeRecordBean.java\n",
        "gradebook/trunk/app/ui/src/java/org/sakaiproject/tool/gradebook/ui/helpers/beans/AssignmentGradeRecordCreator.java\n",
        "gradebook/trunk/app/ui/src/java/org/sakaiproject/tool/gradebook/ui/helpers/entity/GradebookEntryGradeEntityProvider.java\n",
        "gradebook/trunk/app/ui/src/java/org/sakaiproject/tool/gradebook/ui/helpers/params/GradeGradebookItemViewParams.java\n",
        "gradebook/trunk/app/ui/src/java/org/sakaiproject/tool/gradebook/ui/helpers/producers/GradeGradebookItemProducer.java\n",
        "gradebook/trunk/app/ui/src/webapp/content/templates/grade-gradebook-item.html\n",
        "Modified:\n",
        "gradebook/trunk/app/business/src/java/org/sakaiproject/tool/gradebook/business/GradebookManager.java\n",
        "gradebook/trunk/app/business/src/java/org/sakaiproject/tool/gradebook/business/impl/GradebookManagerHibernateImpl.java\n",
        "gradebook/trunk/app/ui/pom.xml\n",
        "gradebook/trunk/app/ui/src/java/org/sakaiproject/tool/gradebook/ui/helpers/beans/GradebookItemBean.java\n",
        "gradebook/trunk/app/ui/src/java/org/sakaiproject/tool/gradebook/ui/helpers/entity/GradebookEntryEntityProvider.java\n",
        "gradebook/trunk/app/ui/src/java/org/sakaiproject/tool/gradebook/ui/helpers/\"\"\"\n",
        "\n",
        "text=text.lower()\n",
        "text.replace(\"\\t\",\" \")\n",
        "text.startswith(\"from:\")\n",
        "for i in text.split(\"\\n\"):\n",
        "  if i.startswith(\"from:\"):\n",
        "    for x in i.split():\n",
        "      if \"@\" in x:\n",
        "        print (x.split(\"@\"))X"
      ],
      "execution_count": null,
      "outputs": [
        {
          "output_type": "stream",
          "text": [
            "['stephen.marquard', 'uct.ac.za']\n",
            "['louis', 'media.berkeley.edu']\n",
            "['zqian', 'umich.edu']\n",
            "['rjlowe', 'iupui.edu']\n",
            "['zqian', 'umich.edu']\n",
            "['rjlowe', 'iupui.edu']\n"
          ],
          "name": "stdout"
        }
      ]
    },
    {
      "cell_type": "code",
      "metadata": {
        "colab": {
          "base_uri": "https://localhost:8080/"
        },
        "id": "51Q5Ku9O1xfy",
        "outputId": "cf59a4fd-6656-4787-a892-0e13b9be40ee"
      },
      "source": [
        "text2='X-DSPAM-Confidence: 0.8475'\n",
        "\n",
        "split_text=text2.split(\":\")\n",
        "val=split_text[1]\n",
        "round(1.00000+float(val),4)\n",
        "#str(float(text2.split(\":\")[1])+1)\n"
      ],
      "execution_count": null,
      "outputs": [
        {
          "output_type": "execute_result",
          "data": {
            "text/plain": [
              "1.8475"
            ]
          },
          "metadata": {
            "tags": []
          },
          "execution_count": 231
        }
      ]
    },
    {
      "cell_type": "code",
      "metadata": {
        "colab": {
          "base_uri": "https://localhost:8080/",
          "height": 35
        },
        "id": "NI5s3U5v30Sk",
        "outputId": "df6f6948-97f3-4ea0-e3fc-d961fb8cb861"
      },
      "source": [
        "text = 'From stephen.marquard@uct.ac.za Sat Jan  5 09:14:16 2008'\n",
        "loc_dom=text.find(\"@\")\n",
        "text.split('@')[1].split()[0]\n"
      ],
      "execution_count": null,
      "outputs": [
        {
          "output_type": "execute_result",
          "data": {
            "application/vnd.google.colaboratory.intrinsic+json": {
              "type": "string"
            },
            "text/plain": [
              "'uct.ac.za'"
            ]
          },
          "metadata": {
            "tags": []
          },
          "execution_count": 253
        }
      ]
    },
    {
      "cell_type": "code",
      "metadata": {
        "colab": {
          "base_uri": "https://localhost:8080/"
        },
        "id": "Rtv7yTHx5d7c",
        "outputId": "eaa57b06-ce42-4940-93a4-2f8a947b0c3f"
      },
      "source": [
        "file_handle = open(\"mbox.txt\", \"r\")\n",
        "\n",
        "email_set=set()\n",
        "\n",
        "for line in file_handle:\n",
        "  line=line.rstrip()\n",
        "  if not line.startswith(\"From: \"):\n",
        "    continue\n",
        "  else:\n",
        "    #print(line)\n",
        "    email_set.add(line)\n",
        "\n",
        "for i in set(email_set):\n",
        "  print (i.split(\":\")[1])\n"
      ],
      "execution_count": null,
      "outputs": [
        {
          "output_type": "stream",
          "text": [
            " arwhyte@umich.edu\n",
            " jimeng@umich.edu\n",
            " ktsao@stanford.edu\n",
            " rjlowe@iupui.edu\n",
            " kimsooil@bu.edu\n",
            " zqian@umich.edu\n",
            " gbhatnag@umich.edu\n",
            " ajpoland@iupui.edu\n",
            " gopal.ramasammycook@gmail.com\n",
            " chmaurer@iupui.edu\n",
            " tnguyen@iupui.edu\n",
            " stuart.freeman@et.gatech.edu\n",
            " ian@caret.cam.ac.uk\n",
            " ray@media.berkeley.edu\n",
            " colin.clark@utoronto.ca\n",
            " knoop@umich.edu\n",
            " josrodri@iupui.edu\n",
            " bkirschn@umich.edu\n",
            " gjthomas@iupui.edu\n",
            " thoppaymallika@fhda.edu\n",
            " ggolden@umich.edu\n",
            " louis@media.berkeley.edu\n",
            " jlrenfro@ucdavis.edu\n",
            " david.horwitz@uct.ac.za\n",
            " mmmay@indiana.edu\n",
            " cwen@iupui.edu\n",
            " ssmail@indiana.edu\n",
            " zach.thomas@txstate.edu\n",
            " aaronz@vt.edu\n",
            " stephen.marquard@uct.ac.za\n",
            " gsilver@umich.edu\n",
            " hu2@iupui.edu\n",
            " mbreuker@loi.nl\n",
            " jleasia@umich.edu\n",
            " bahollad@indiana.edu\n",
            " lance@indiana.edu\n",
            " ostermmg@whitman.edu\n",
            " antranig@caret.cam.ac.uk\n",
            " csev@umich.edu\n",
            " jzaremba@unicon.net\n",
            " john.ellis@rsmart.com\n",
            " nuno@ufp.pt\n",
            " wagnermr@iupui.edu\n",
            " sgithens@caret.cam.ac.uk\n",
            " dlhaines@umich.edu\n",
            " a.fish@lancaster.ac.uk\n"
          ],
          "name": "stdout"
        }
      ]
    }
  ]
}